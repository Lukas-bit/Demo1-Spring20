{
  "cells": [
    {
      "metadata": {
        "trusted": true
      },
      "cell_type": "code",
      "source": "import requests\n\nrequests.get(\"http://random-word-api.herokuapp.com/word?number=1\")\nr.json()[0]\n",
      "execution_count": null,
      "outputs": []
    },
    {
      "metadata": {
        "trusted": true
      },
      "cell_type": "code",
      "source": "word = \"hello\"\nletter = \"l\"\nprint(list(enumerate(word)))\n\n[i for i, x in enumerate(word) if x == letter]",
      "execution_count": null,
      "outputs": []
    },
    {
      "metadata": {
        "trusted": true,
        "scrolled": true
      },
      "cell_type": "code",
      "source": "!ls",
      "execution_count": 23,
      "outputs": [
        {
          "output_type": "stream",
          "text": "Basics.ipynb  board.txt  Hangman.ipynb\tREADME.md  Sandbox.ipynb\r\n",
          "name": "stdout"
        }
      ]
    },
    {
      "metadata": {
        "trusted": true
      },
      "cell_type": "code",
      "source": "\"hello\".find(\"l\")",
      "execution_count": null,
      "outputs": []
    },
    {
      "metadata": {
        "trusted": true
      },
      "cell_type": "code",
      "source": "%%writefile board.txt\n\n,\n O\n,\n O\n |\n,\n O\n/|\n,\n O\n/|\\\n,\n O\n/|\\\n/\n,\n O\n/|\\\n/ \\",
      "execution_count": 28,
      "outputs": [
        {
          "output_type": "stream",
          "text": "Overwriting board.txt\n",
          "name": "stdout"
        }
      ]
    },
    {
      "metadata": {
        "trusted": true
      },
      "cell_type": "code",
      "source": "with open(\"board.txt\") as f:\n    board = f.read().split(\",\")\n    \n    for hang in board:\n        print(hang)\n\n#print(board[0])",
      "execution_count": 29,
      "outputs": [
        {
          "output_type": "stream",
          "text": "\n\n\n O\n\n\n O\n |\n\n\n O\n/|\n\n\n O\n/|\\\n\n\n O\n/|\\\n/\n\n\n O\n/|\\\n/ \\\n\n",
          "name": "stdout"
        }
      ]
    },
    {
      "metadata": {
        "trusted": true
      },
      "cell_type": "code",
      "source": "#\n# Hangman demo\n\nimport random, requests\n\nDEBUG = 0\n\n# Board\ndef load_board():\n    with open(\"board.txt\") as f:\n        board = f.read().split(\",\")\n    \n    return board\n\n# Get random word\ndef get_random_word():\n#    words = [\"hello\", \"world\", \"one\"]\n#    return random.choice(words)\n    \n    r = requests.get(\"http://random-word-api.herokuapp.com/word?number=1\")\n    return r.json()[0]\n\n# Play\ndef play():\n\n    print(\"Welcome to the game!\")\n    \n    word = get_random_word()\n    \n    if DEBUG: print(word)\n        \n    guess = [\"_\"] * len(word)\n    board = load_board()\n    hang = 0\n    used_bucket = []\n    \n    def draw_board():\n        # draw\n        print()\n        print(board[hang])\n        print(\" \".join(guess))\n        \n    while True:\n        \n        draw_board()\n        \n        print()\n        letter = input(\"Guess a letter (@ to quit) ? \")\n        \n        if letter == \"@\":\n            print()\n            print(\"QUITTER! The word was '%s'\" % word)\n            break\n            \n        if letter in used_bucket:\n            print()\n            print(\"You've already guessed that letter!\")\n            continue\n        \n        else: used_bucket.append(letter)\n        \n        # good guess! replace every \"_\" with the letter\n        if letter in word:\n            indices = [i for i, x in enumerate(word) if x == letter]\n            \n            for pos in indices:\n                guess[pos] = letter\n                \n        #wrong guess\n        else: hang += 1    \n        \n        if \"_\" not in guess:\n            draw_board()\n            print(\"You win!\")\n            break\n            \n        if hang == len(board)-1:\n            draw_board()\n            print(\"You failed! The word was '%s'\" % word)\n            break\n    \nplay()\n",
      "execution_count": 1,
      "outputs": [
        {
          "output_type": "stream",
          "text": "Welcome to the game!\n\n\n\n_ _ _ _ _ _ _ _ _ _ _ _\n\nGuess a letter (@ to quit) ? d\n\n\n O\n\n_ _ _ _ _ _ _ _ _ _ _ _\n\nGuess a letter (@ to quit) ? r\n\n\n O\n\n_ _ _ _ r _ _ _ r _ _ _\n\nGuess a letter (@ to quit) ? o\n\n\n O\n\n_ _ _ o r _ _ o r _ _ _\n\nGuess a letter (@ to quit) ? m\n\n\n O\n |\n\n_ _ _ o r _ _ o r _ _ _\n\nGuess a letter (@ to quit) ? d\n\nYou've already guessed that letter!\n\n\n O\n |\n\n_ _ _ o r _ _ o r _ _ _\n\nGuess a letter (@ to quit) ? l\n\n\n O\n |\n\nl _ _ o r _ _ o r _ _ _\n\nGuess a letter (@ to quit) ? m\n\nYou've already guessed that letter!\n\n\n O\n |\n\nl _ _ o r _ _ o r _ _ _\n\nGuess a letter (@ to quit) ? p\n\n\n O\n/|\n\nl _ _ o r _ _ o r _ _ _\n\nGuess a letter (@ to quit) ? z\n\n\n O\n/|\\\n\nl _ _ o r _ _ o r _ _ _\n\nGuess a letter (@ to quit) ? n\n\n\n O\n/|\\\n/\n\nl _ _ o r _ _ o r _ _ _\n\nGuess a letter (@ to quit) ? i\n\n\n O\n/|\\\n/\n\nl _ _ o r _ _ o r i _ _\n\nGuess a letter (@ to quit) ? q\n\n\n O\n/|\\\n/ \\\n\nl _ _ o r _ _ o r i _ _\nYou failed! The word was 'laboratories'\n",
          "name": "stdout"
        }
      ]
    },
    {
      "metadata": {
        "trusted": true
      },
      "cell_type": "code",
      "source": "",
      "execution_count": null,
      "outputs": []
    },
    {
      "metadata": {
        "trusted": true
      },
      "cell_type": "code",
      "source": "",
      "execution_count": null,
      "outputs": []
    },
    {
      "metadata": {
        "trusted": true
      },
      "cell_type": "code",
      "source": "",
      "execution_count": null,
      "outputs": []
    }
  ],
  "metadata": {
    "kernelspec": {
      "name": "python36",
      "display_name": "Python 3.6",
      "language": "python"
    },
    "language_info": {
      "mimetype": "text/x-python",
      "nbconvert_exporter": "python",
      "name": "python",
      "pygments_lexer": "ipython3",
      "version": "3.6.6",
      "file_extension": ".py",
      "codemirror_mode": {
        "version": 3,
        "name": "ipython"
      }
    }
  },
  "nbformat": 4,
  "nbformat_minor": 2
}