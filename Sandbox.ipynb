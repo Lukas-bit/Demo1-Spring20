{
  "cells": [
    {
      "metadata": {
        "trusted": true
      },
      "cell_type": "code",
      "source": "print(\"Hello World\")",
      "execution_count": 1,
      "outputs": [
        {
          "output_type": "stream",
          "text": "Hello World\n",
          "name": "stdout"
        }
      ]
    },
    {
      "metadata": {
        "trusted": true
      },
      "cell_type": "code",
      "source": "print(\"hello world\")",
      "execution_count": 3,
      "outputs": [
        {
          "output_type": "stream",
          "text": "hello world\n",
          "name": "stdout"
        }
      ]
    },
    {
      "metadata": {
        "trusted": true
      },
      "cell_type": "code",
      "source": "\"hello world\"",
      "execution_count": 5,
      "outputs": [
        {
          "output_type": "execute_result",
          "execution_count": 5,
          "data": {
            "text/plain": "'hello world'"
          },
          "metadata": {}
        }
      ]
    },
    {
      "metadata": {
        "trusted": true
      },
      "cell_type": "code",
      "source": "(1+5)+6-3*3",
      "execution_count": 7,
      "outputs": [
        {
          "output_type": "execute_result",
          "execution_count": 7,
          "data": {
            "text/plain": "3"
          },
          "metadata": {}
        }
      ]
    },
    {
      "metadata": {
        "trusted": true
      },
      "cell_type": "code",
      "source": "\"------\" * 20",
      "execution_count": 8,
      "outputs": [
        {
          "output_type": "execute_result",
          "execution_count": 8,
          "data": {
            "text/plain": "'------------------------------------------------------------------------------------------------------------------------'"
          },
          "metadata": {}
        }
      ]
    },
    {
      "metadata": {
        "trusted": true
      },
      "cell_type": "code",
      "source": "print(\"hello\\nworld\")",
      "execution_count": 11,
      "outputs": [
        {
          "output_type": "stream",
          "text": "hello\nworld\n",
          "name": "stdout"
        }
      ]
    },
    {
      "metadata": {
        "trusted": true
      },
      "cell_type": "code",
      "source": "import math\nmath.sin(1)",
      "execution_count": 12,
      "outputs": [
        {
          "output_type": "execute_result",
          "execution_count": 12,
          "data": {
            "text/plain": "0.8414709848078965"
          },
          "metadata": {}
        }
      ]
    },
    {
      "metadata": {
        "trusted": true
      },
      "cell_type": "code",
      "source": "%precision 3\n\nimport math\nmath.sin(1)",
      "execution_count": 13,
      "outputs": [
        {
          "output_type": "execute_result",
          "execution_count": 13,
          "data": {
            "text/plain": "0.841"
          },
          "metadata": {}
        }
      ]
    },
    {
      "metadata": {
        "trusted": true
      },
      "cell_type": "code",
      "source": "%precision 3\n\nfrom sympy import simplify_logic\n\nsimplify_logic(\"a & b | a&c\")",
      "execution_count": 14,
      "outputs": [
        {
          "output_type": "execute_result",
          "execution_count": 14,
          "data": {
            "text/plain": "a & (b | c)"
          },
          "metadata": {}
        }
      ]
    },
    {
      "metadata": {
        "trusted": true
      },
      "cell_type": "code",
      "source": "%precision 3\n\nimport math\n\nprint(math.sin(1))\nmath.cos(math.pi/3)",
      "execution_count": 17,
      "outputs": [
        {
          "output_type": "stream",
          "text": "0.8414709848078965\n",
          "name": "stdout"
        },
        {
          "output_type": "execute_result",
          "execution_count": 17,
          "data": {
            "text/plain": "0.500"
          },
          "metadata": {}
        }
      ]
    },
    {
      "metadata": {
        "trusted": true
      },
      "cell_type": "code",
      "source": "import math\n\n# math.sin(2)\n# math.sin(1)",
      "execution_count": 20,
      "outputs": []
    },
    {
      "metadata": {
        "trusted": true
      },
      "cell_type": "code",
      "source": "\"13\"",
      "execution_count": 1,
      "outputs": [
        {
          "output_type": "execute_result",
          "execution_count": 1,
          "data": {
            "text/plain": "'13'"
          },
          "metadata": {}
        }
      ]
    },
    {
      "metadata": {
        "trusted": true
      },
      "cell_type": "code",
      "source": "\"13\" * 2",
      "execution_count": 2,
      "outputs": [
        {
          "output_type": "execute_result",
          "execution_count": 2,
          "data": {
            "text/plain": "'1313'"
          },
          "metadata": {}
        }
      ]
    },
    {
      "metadata": {
        "trusted": true
      },
      "cell_type": "code",
      "source": "type(\"13\")",
      "execution_count": 3,
      "outputs": [
        {
          "output_type": "execute_result",
          "execution_count": 3,
          "data": {
            "text/plain": "str"
          },
          "metadata": {}
        }
      ]
    },
    {
      "metadata": {
        "trusted": true
      },
      "cell_type": "code",
      "source": "int(\"13\")",
      "execution_count": 6,
      "outputs": [
        {
          "output_type": "execute_result",
          "execution_count": 6,
          "data": {
            "text/plain": "13"
          },
          "metadata": {}
        }
      ]
    },
    {
      "metadata": {
        "trusted": true
      },
      "cell_type": "code",
      "source": "type(int(\"13\"))",
      "execution_count": 5,
      "outputs": [
        {
          "output_type": "execute_result",
          "execution_count": 5,
          "data": {
            "text/plain": "int"
          },
          "metadata": {}
        }
      ]
    },
    {
      "metadata": {
        "trusted": true
      },
      "cell_type": "code",
      "source": "int(\"FF\", 16)",
      "execution_count": 7,
      "outputs": [
        {
          "output_type": "execute_result",
          "execution_count": 7,
          "data": {
            "text/plain": "255"
          },
          "metadata": {}
        }
      ]
    },
    {
      "metadata": {
        "trusted": true
      },
      "cell_type": "code",
      "source": "#int(\"FF\", 16)\nstr(121)",
      "execution_count": 8,
      "outputs": [
        {
          "output_type": "execute_result",
          "execution_count": 8,
          "data": {
            "text/plain": "'121'"
          },
          "metadata": {}
        }
      ]
    },
    {
      "metadata": {
        "trusted": true
      },
      "cell_type": "code",
      "source": "x = 13\ny = \"13\"\nprint(x*2, y*2)",
      "execution_count": 9,
      "outputs": [
        {
          "output_type": "stream",
          "text": "26 1313\n",
          "name": "stdout"
        }
      ]
    },
    {
      "metadata": {
        "trusted": true
      },
      "cell_type": "code",
      "source": "x = 13\ny = \"13\"\n#print(x*2, y*2)\nprint(13*2, \"13\"*2)",
      "execution_count": 10,
      "outputs": [
        {
          "output_type": "stream",
          "text": "26 1313\n",
          "name": "stdout"
        }
      ]
    },
    {
      "metadata": {
        "trusted": true
      },
      "cell_type": "code",
      "source": "int(\"0b1101\", 2)",
      "execution_count": 17,
      "outputs": [
        {
          "output_type": "execute_result",
          "execution_count": 17,
          "data": {
            "text/plain": "13"
          },
          "metadata": {}
        }
      ]
    },
    {
      "metadata": {
        "trusted": true
      },
      "cell_type": "code",
      "source": "int(\"0xf\", 16)",
      "execution_count": 18,
      "outputs": [
        {
          "output_type": "execute_result",
          "execution_count": 18,
          "data": {
            "text/plain": "15"
          },
          "metadata": {}
        }
      ]
    },
    {
      "metadata": {
        "trusted": true
      },
      "cell_type": "code",
      "source": "bin(13)",
      "execution_count": 19,
      "outputs": [
        {
          "output_type": "execute_result",
          "execution_count": 19,
          "data": {
            "text/plain": "'0b1101'"
          },
          "metadata": {}
        }
      ]
    },
    {
      "metadata": {
        "trusted": true
      },
      "cell_type": "code",
      "source": "hex(13)",
      "execution_count": 20,
      "outputs": [
        {
          "output_type": "execute_result",
          "execution_count": 20,
          "data": {
            "text/plain": "'0xd'"
          },
          "metadata": {}
        }
      ]
    },
    {
      "metadata": {
        "trusted": true
      },
      "cell_type": "code",
      "source": "chr(97)",
      "execution_count": 21,
      "outputs": [
        {
          "output_type": "execute_result",
          "execution_count": 21,
          "data": {
            "text/plain": "'a'"
          },
          "metadata": {}
        }
      ]
    },
    {
      "metadata": {
        "trusted": true
      },
      "cell_type": "code",
      "source": "ord(\"a\")",
      "execution_count": 22,
      "outputs": [
        {
          "output_type": "execute_result",
          "execution_count": 22,
          "data": {
            "text/plain": "97"
          },
          "metadata": {}
        }
      ]
    },
    {
      "metadata": {
        "trusted": true
      },
      "cell_type": "code",
      "source": "type(13) == int",
      "execution_count": 23,
      "outputs": [
        {
          "output_type": "execute_result",
          "execution_count": 23,
          "data": {
            "text/plain": "True"
          },
          "metadata": {}
        }
      ]
    },
    {
      "metadata": {
        "trusted": true
      },
      "cell_type": "code",
      "source": "type(13.0)",
      "execution_count": 24,
      "outputs": [
        {
          "output_type": "execute_result",
          "execution_count": 24,
          "data": {
            "text/plain": "float"
          },
          "metadata": {}
        }
      ]
    },
    {
      "metadata": {
        "trusted": true
      },
      "cell_type": "code",
      "source": "type(13.0) == int",
      "execution_count": 25,
      "outputs": [
        {
          "output_type": "execute_result",
          "execution_count": 25,
          "data": {
            "text/plain": "False"
          },
          "metadata": {}
        }
      ]
    },
    {
      "metadata": {
        "trusted": true
      },
      "cell_type": "code",
      "source": "type(\"13.0\")",
      "execution_count": 26,
      "outputs": [
        {
          "output_type": "execute_result",
          "execution_count": 26,
          "data": {
            "text/plain": "str"
          },
          "metadata": {}
        }
      ]
    },
    {
      "metadata": {
        "trusted": true
      },
      "cell_type": "code",
      "source": "type(\"13\") == str",
      "execution_count": 27,
      "outputs": [
        {
          "output_type": "execute_result",
          "execution_count": 27,
          "data": {
            "text/plain": "True"
          },
          "metadata": {}
        }
      ]
    },
    {
      "metadata": {
        "trusted": true
      },
      "cell_type": "code",
      "source": "x = \"this is a string\"\ny = 1\n\n\nprint (type(x), type(y), type(\"\"))",
      "execution_count": 28,
      "outputs": [
        {
          "output_type": "stream",
          "text": "<class 'str'> <class 'int'> <class 'str'>\n",
          "name": "stdout"
        }
      ]
    },
    {
      "metadata": {
        "trusted": true
      },
      "cell_type": "code",
      "source": "# Example 1\nfrom datetime import date\n\nname = input(\"What is your name? \") # Notice the extra space\n\nprint()   #Print an empty time\nprint(\"Hello\", name, \"today's date is:\", date.today())",
      "execution_count": 33,
      "outputs": [
        {
          "output_type": "stream",
          "name": "stdout",
          "text": "What is your name? Lukas\n\nHello Lukas today's date is: 2020-06-03\n"
        }
      ]
    },
    {
      "metadata": {
        "trusted": true
      },
      "cell_type": "code",
      "source": "# Example 2, hint use int function to convert to a number\nr = input(\"What is the equivalent resistance? \")\n\nV = 5                      # voltage source\nR = int(r)                 # need to convert string into an integer\n# print(\"R\", R, type(R))   # just for debugging\nI = V/R\nprint(\"Given\", V, \"v power source, the current is I =\", I, \"amps.\")",
      "execution_count": 32,
      "outputs": [
        {
          "output_type": "stream",
          "name": "stdout",
          "text": "What is the equivalent resistance? 2\nGiven 5 v power source, the current is I = 2.5 amps.\n"
        }
      ]
    },
    {
      "metadata": {
        "trusted": true
      },
      "cell_type": "code",
      "source": "# A python block\n# All blocks must be idented by spaces (or tabs -- but don't mix)\nx = True\ny = False\n\nif x or y:\n    \n    print(\"1. x or y is True\")\n    \n    if x and y:\n        print(\"2. x and y is True\")\n        \nprint(\"3. Done!\")",
      "execution_count": 36,
      "outputs": [
        {
          "output_type": "stream",
          "text": "1. x or y is True\n3. Done!\n",
          "name": "stdout"
        }
      ]
    },
    {
      "metadata": {
        "trusted": true
      },
      "cell_type": "code",
      "source": "x = False\ny = False\n\nif x or y:\n    \n    print(\"1. x or y is True\")\n    \n    if x and y:\n        print(\"2. x and y is True\")\n        \nprint(\"3. Done!\")",
      "execution_count": 37,
      "outputs": [
        {
          "output_type": "stream",
          "text": "3. Done!\n",
          "name": "stdout"
        }
      ]
    },
    {
      "metadata": {
        "trusted": true
      },
      "cell_type": "code",
      "source": "x = False\ny = True\n\nif x or y:   # Evaluating y is redundant\n    \n    print(\"1. x or y is True\")\n    \n    if x and y:\n        print(\"2. x and y is True\")\n        \nprint(\"3. Done!\")",
      "execution_count": 39,
      "outputs": [
        {
          "output_type": "stream",
          "text": "1. x or y is True\n3. Done!\n",
          "name": "stdout"
        }
      ]
    },
    {
      "metadata": {
        "trusted": true
      },
      "cell_type": "code",
      "source": "x = 1\ny = 0\n\nif x & y:\n    print(\"AND\")\nelif x | y:\n    print(\"OR\")\nelse:\n    print(\"??\")",
      "execution_count": 40,
      "outputs": [
        {
          "output_type": "stream",
          "text": "OR\n",
          "name": "stdout"
        }
      ]
    },
    {
      "metadata": {
        "trusted": true
      },
      "cell_type": "code",
      "source": "# Looks like a Python block\ndef FunctionName(arguments):\n    # do some processing\n    \n    # not required but could return any python object\n    return something\n\n# calling a function and assigning the return value\nv = FunctionName(arguments)",
      "execution_count": 44,
      "outputs": [
        {
          "output_type": "error",
          "ename": "NameError",
          "evalue": "name 'arguments' is not defined",
          "traceback": [
            "\u001b[0;31m---------------------------------------------------------------------------\u001b[0m",
            "\u001b[0;31mNameError\u001b[0m                                 Traceback (most recent call last)",
            "\u001b[0;32m<ipython-input-44-f33350066b3f>\u001b[0m in \u001b[0;36m<module>\u001b[0;34m\u001b[0m\n\u001b[1;32m      7\u001b[0m \u001b[0;34m\u001b[0m\u001b[0m\n\u001b[1;32m      8\u001b[0m \u001b[0;31m# calling a function and assigning the return value\u001b[0m\u001b[0;34m\u001b[0m\u001b[0;34m\u001b[0m\u001b[0m\n\u001b[0;32m----> 9\u001b[0;31m \u001b[0mv\u001b[0m \u001b[0;34m=\u001b[0m \u001b[0mFunctionName\u001b[0m\u001b[0;34m(\u001b[0m\u001b[0marguments\u001b[0m\u001b[0;34m)\u001b[0m\u001b[0;34m\u001b[0m\u001b[0m\n\u001b[0m",
            "\u001b[0;31mNameError\u001b[0m: name 'arguments' is not defined"
          ]
        }
      ]
    },
    {
      "metadata": {
        "trusted": true
      },
      "cell_type": "code",
      "source": "def logic(x, y):\n    if x or y:\n        print(\"1. x or y is True\")\n        \n        if x and y:\n            print(\"2. x and y is True\")\n            \n    print(\"3. Done!\")\n    \nlogic(True, False)\nprint()\nlogic(True, True)",
      "execution_count": 41,
      "outputs": [
        {
          "output_type": "stream",
          "text": "1. x or y is True\n3. Done!\n\n1. x or y is True\n2. x and y is True\n3. Done!\n",
          "name": "stdout"
        }
      ]
    },
    {
      "metadata": {
        "trusted": true
      },
      "cell_type": "code",
      "source": "def logic(x, y):\n    if x or y:\n        print(\"1. x or y is True\")\n        \n        if x and y:\n            print(\"2. x and y is True\")\n            print(\"Hello World\")    # Notice that this is printed under the above line\n            \n    print(\"3. Done!\")\n    \nlogic(True, False)\nprint()\nlogic(True, True)",
      "execution_count": 43,
      "outputs": [
        {
          "output_type": "stream",
          "text": "1. x or y is True\n3. Done!\n\n1. x or y is True\n2. x and y is True\nHello World\n3. Done!\n",
          "name": "stdout"
        }
      ]
    },
    {
      "metadata": {
        "trusted": true
      },
      "cell_type": "code",
      "source": "from ipywidgets import interact\n\ndef foo(x):\n    print(\"x is:\", x)\n    \nfoo(13)",
      "execution_count": 47,
      "outputs": [
        {
          "output_type": "stream",
          "text": "x is: 13\n",
          "name": "stdout"
        }
      ]
    },
    {
      "metadata": {
        "trusted": true
      },
      "cell_type": "code",
      "source": "from ipywidgets import interact\n\n@interact(x = 10)\ndef foo(x):\n    print(\"x is:\", x)",
      "execution_count": 50,
      "outputs": [
        {
          "output_type": "display_data",
          "data": {
            "application/vnd.jupyter.widget-view+json": {
              "model_id": "dc2aad8349a04f88bcf8bbeb6199e8dd",
              "version_minor": 0,
              "version_major": 2
            },
            "text/plain": "interactive(children=(IntSlider(value=10, description='x', max=30, min=-10), Output()), _dom_classes=('widget-…"
          },
          "metadata": {}
        }
      ]
    },
    {
      "metadata": {
        "trusted": true
      },
      "cell_type": "code",
      "source": "# x as str\n@interact(x = \"10\")\ndef foo(x):\n    print(\"x is:\", x, int(x)*2)",
      "execution_count": 51,
      "outputs": [
        {
          "output_type": "display_data",
          "data": {
            "application/vnd.jupyter.widget-view+json": {
              "model_id": "2ee881e744fb4d9ea8081b2135eee6a5",
              "version_minor": 0,
              "version_major": 2
            },
            "text/plain": "interactive(children=(Text(value='10', description='x'), Output()), _dom_classes=('widget-interact',))"
          },
          "metadata": {}
        }
      ]
    },
    {
      "metadata": {
        "trusted": true
      },
      "cell_type": "code",
      "source": "# x, y as True/False\n@interact(x = True, y = False)   # check boxes\ndef logic(x, y):\n    \n    if x or y:\n        print(\"1. x or y is\", x or y)\n        \n        if x and y:\n            print(\"2. x and y\", x and y)\n            \n    print(\"3. Done!\")",
      "execution_count": 52,
      "outputs": [
        {
          "output_type": "display_data",
          "data": {
            "application/vnd.jupyter.widget-view+json": {
              "model_id": "a96ca8a1ed164c83bc962f233e57d1bf",
              "version_minor": 0,
              "version_major": 2
            },
            "text/plain": "interactive(children=(Checkbox(value=True, description='x'), Checkbox(value=False, description='y'), Output())…"
          },
          "metadata": {}
        }
      ]
    },
    {
      "metadata": {
        "trusted": true
      },
      "cell_type": "code",
      "source": "",
      "execution_count": null,
      "outputs": []
    }
  ],
  "metadata": {
    "kernelspec": {
      "name": "python36",
      "display_name": "Python 3.6",
      "language": "python"
    },
    "language_info": {
      "mimetype": "text/x-python",
      "nbconvert_exporter": "python",
      "name": "python",
      "pygments_lexer": "ipython3",
      "version": "3.6.6",
      "file_extension": ".py",
      "codemirror_mode": {
        "version": 3,
        "name": "ipython"
      }
    }
  },
  "nbformat": 4,
  "nbformat_minor": 2
}