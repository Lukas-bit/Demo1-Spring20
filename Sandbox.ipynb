{
  "cells": [
    {
      "metadata": {
        "trusted": true
      },
      "cell_type": "code",
      "source": "print(\"Hello World\")",
      "execution_count": 1,
      "outputs": [
        {
          "output_type": "stream",
          "text": "Hello World\n",
          "name": "stdout"
        }
      ]
    },
    {
      "metadata": {
        "trusted": true
      },
      "cell_type": "code",
      "source": "print(\"hello world\")",
      "execution_count": 3,
      "outputs": [
        {
          "output_type": "stream",
          "text": "hello world\n",
          "name": "stdout"
        }
      ]
    },
    {
      "metadata": {
        "trusted": true
      },
      "cell_type": "code",
      "source": "\"hello world\"",
      "execution_count": 5,
      "outputs": [
        {
          "output_type": "execute_result",
          "execution_count": 5,
          "data": {
            "text/plain": "'hello world'"
          },
          "metadata": {}
        }
      ]
    },
    {
      "metadata": {
        "trusted": true
      },
      "cell_type": "code",
      "source": "(1+5)+6-3*3",
      "execution_count": 7,
      "outputs": [
        {
          "output_type": "execute_result",
          "execution_count": 7,
          "data": {
            "text/plain": "3"
          },
          "metadata": {}
        }
      ]
    },
    {
      "metadata": {
        "trusted": true
      },
      "cell_type": "code",
      "source": "\"------\" * 20",
      "execution_count": 8,
      "outputs": [
        {
          "output_type": "execute_result",
          "execution_count": 8,
          "data": {
            "text/plain": "'------------------------------------------------------------------------------------------------------------------------'"
          },
          "metadata": {}
        }
      ]
    },
    {
      "metadata": {
        "trusted": true
      },
      "cell_type": "code",
      "source": "print(\"hello\\nworld\")",
      "execution_count": 11,
      "outputs": [
        {
          "output_type": "stream",
          "text": "hello\nworld\n",
          "name": "stdout"
        }
      ]
    },
    {
      "metadata": {
        "trusted": true
      },
      "cell_type": "code",
      "source": "import math\nmath.sin(1)",
      "execution_count": 12,
      "outputs": [
        {
          "output_type": "execute_result",
          "execution_count": 12,
          "data": {
            "text/plain": "0.8414709848078965"
          },
          "metadata": {}
        }
      ]
    },
    {
      "metadata": {
        "trusted": true
      },
      "cell_type": "code",
      "source": "%precision 3\n\nimport math\nmath.sin(1)",
      "execution_count": 13,
      "outputs": [
        {
          "output_type": "execute_result",
          "execution_count": 13,
          "data": {
            "text/plain": "0.841"
          },
          "metadata": {}
        }
      ]
    },
    {
      "metadata": {
        "trusted": true
      },
      "cell_type": "code",
      "source": "%precision 3\n\nfrom sympy import simplify_logic\n\nsimplify_logic(\"a & b | a&c\")",
      "execution_count": 14,
      "outputs": [
        {
          "output_type": "execute_result",
          "execution_count": 14,
          "data": {
            "text/plain": "a & (b | c)"
          },
          "metadata": {}
        }
      ]
    },
    {
      "metadata": {
        "trusted": true
      },
      "cell_type": "code",
      "source": "%precision 3\n\nimport math\n\nprint(math.sin(1))\nmath.cos(math.pi/3)",
      "execution_count": 17,
      "outputs": [
        {
          "output_type": "stream",
          "text": "0.8414709848078965\n",
          "name": "stdout"
        },
        {
          "output_type": "execute_result",
          "execution_count": 17,
          "data": {
            "text/plain": "0.500"
          },
          "metadata": {}
        }
      ]
    },
    {
      "metadata": {
        "trusted": true
      },
      "cell_type": "code",
      "source": "import math\n\n# math.sin(2)\n# math.sin(1)",
      "execution_count": 20,
      "outputs": []
    },
    {
      "metadata": {
        "trusted": true
      },
      "cell_type": "code",
      "source": "\"13\"",
      "execution_count": 1,
      "outputs": [
        {
          "output_type": "execute_result",
          "execution_count": 1,
          "data": {
            "text/plain": "'13'"
          },
          "metadata": {}
        }
      ]
    },
    {
      "metadata": {
        "trusted": true
      },
      "cell_type": "code",
      "source": "\"13\" * 2",
      "execution_count": 2,
      "outputs": [
        {
          "output_type": "execute_result",
          "execution_count": 2,
          "data": {
            "text/plain": "'1313'"
          },
          "metadata": {}
        }
      ]
    },
    {
      "metadata": {
        "trusted": true
      },
      "cell_type": "code",
      "source": "type(\"13\")",
      "execution_count": 3,
      "outputs": [
        {
          "output_type": "execute_result",
          "execution_count": 3,
          "data": {
            "text/plain": "str"
          },
          "metadata": {}
        }
      ]
    },
    {
      "metadata": {
        "trusted": true
      },
      "cell_type": "code",
      "source": "int(\"13\")",
      "execution_count": 6,
      "outputs": [
        {
          "output_type": "execute_result",
          "execution_count": 6,
          "data": {
            "text/plain": "13"
          },
          "metadata": {}
        }
      ]
    },
    {
      "metadata": {
        "trusted": true
      },
      "cell_type": "code",
      "source": "type(int(\"13\"))",
      "execution_count": 5,
      "outputs": [
        {
          "output_type": "execute_result",
          "execution_count": 5,
          "data": {
            "text/plain": "int"
          },
          "metadata": {}
        }
      ]
    },
    {
      "metadata": {
        "trusted": true
      },
      "cell_type": "code",
      "source": "int(\"FF\", 16)",
      "execution_count": 7,
      "outputs": [
        {
          "output_type": "execute_result",
          "execution_count": 7,
          "data": {
            "text/plain": "255"
          },
          "metadata": {}
        }
      ]
    },
    {
      "metadata": {
        "trusted": true
      },
      "cell_type": "code",
      "source": "#int(\"FF\", 16)\nstr(121)",
      "execution_count": 8,
      "outputs": [
        {
          "output_type": "execute_result",
          "execution_count": 8,
          "data": {
            "text/plain": "'121'"
          },
          "metadata": {}
        }
      ]
    },
    {
      "metadata": {
        "trusted": true
      },
      "cell_type": "code",
      "source": "x = 13\ny = \"13\"\nprint(x*2, y*2)",
      "execution_count": 9,
      "outputs": [
        {
          "output_type": "stream",
          "text": "26 1313\n",
          "name": "stdout"
        }
      ]
    },
    {
      "metadata": {
        "trusted": true
      },
      "cell_type": "code",
      "source": "x = 13\ny = \"13\"\n#print(x*2, y*2)\nprint(13*2, \"13\"*2)",
      "execution_count": 10,
      "outputs": [
        {
          "output_type": "stream",
          "text": "26 1313\n",
          "name": "stdout"
        }
      ]
    },
    {
      "metadata": {
        "trusted": true
      },
      "cell_type": "code",
      "source": "int(\"0b1101\", 2)",
      "execution_count": 17,
      "outputs": [
        {
          "output_type": "execute_result",
          "execution_count": 17,
          "data": {
            "text/plain": "13"
          },
          "metadata": {}
        }
      ]
    },
    {
      "metadata": {
        "trusted": true
      },
      "cell_type": "code",
      "source": "int(\"0xf\", 16)",
      "execution_count": 18,
      "outputs": [
        {
          "output_type": "execute_result",
          "execution_count": 18,
          "data": {
            "text/plain": "15"
          },
          "metadata": {}
        }
      ]
    },
    {
      "metadata": {
        "trusted": true
      },
      "cell_type": "code",
      "source": "bin(13)",
      "execution_count": 19,
      "outputs": [
        {
          "output_type": "execute_result",
          "execution_count": 19,
          "data": {
            "text/plain": "'0b1101'"
          },
          "metadata": {}
        }
      ]
    },
    {
      "metadata": {
        "trusted": true
      },
      "cell_type": "code",
      "source": "hex(13)",
      "execution_count": 20,
      "outputs": [
        {
          "output_type": "execute_result",
          "execution_count": 20,
          "data": {
            "text/plain": "'0xd'"
          },
          "metadata": {}
        }
      ]
    },
    {
      "metadata": {
        "trusted": true
      },
      "cell_type": "code",
      "source": "chr(97)",
      "execution_count": 21,
      "outputs": [
        {
          "output_type": "execute_result",
          "execution_count": 21,
          "data": {
            "text/plain": "'a'"
          },
          "metadata": {}
        }
      ]
    },
    {
      "metadata": {
        "trusted": true
      },
      "cell_type": "code",
      "source": "ord(\"a\")",
      "execution_count": 22,
      "outputs": [
        {
          "output_type": "execute_result",
          "execution_count": 22,
          "data": {
            "text/plain": "97"
          },
          "metadata": {}
        }
      ]
    },
    {
      "metadata": {
        "trusted": true
      },
      "cell_type": "code",
      "source": "type(13) == int",
      "execution_count": 23,
      "outputs": [
        {
          "output_type": "execute_result",
          "execution_count": 23,
          "data": {
            "text/plain": "True"
          },
          "metadata": {}
        }
      ]
    },
    {
      "metadata": {
        "trusted": true
      },
      "cell_type": "code",
      "source": "type(13.0)",
      "execution_count": 24,
      "outputs": [
        {
          "output_type": "execute_result",
          "execution_count": 24,
          "data": {
            "text/plain": "float"
          },
          "metadata": {}
        }
      ]
    },
    {
      "metadata": {
        "trusted": true
      },
      "cell_type": "code",
      "source": "type(13.0) == int",
      "execution_count": 25,
      "outputs": [
        {
          "output_type": "execute_result",
          "execution_count": 25,
          "data": {
            "text/plain": "False"
          },
          "metadata": {}
        }
      ]
    },
    {
      "metadata": {
        "trusted": true
      },
      "cell_type": "code",
      "source": "type(\"13.0\")",
      "execution_count": 26,
      "outputs": [
        {
          "output_type": "execute_result",
          "execution_count": 26,
          "data": {
            "text/plain": "str"
          },
          "metadata": {}
        }
      ]
    },
    {
      "metadata": {
        "trusted": true
      },
      "cell_type": "code",
      "source": "type(\"13\") == str",
      "execution_count": 27,
      "outputs": [
        {
          "output_type": "execute_result",
          "execution_count": 27,
          "data": {
            "text/plain": "True"
          },
          "metadata": {}
        }
      ]
    },
    {
      "metadata": {
        "trusted": true
      },
      "cell_type": "code",
      "source": "x = \"this is a string\"\ny = 1\n\n\nprint (type(x), type(y), type(\"\"))",
      "execution_count": 28,
      "outputs": [
        {
          "output_type": "stream",
          "text": "<class 'str'> <class 'int'> <class 'str'>\n",
          "name": "stdout"
        }
      ]
    },
    {
      "metadata": {
        "trusted": true
      },
      "cell_type": "code",
      "source": "# Example 1\nfrom datetime import date\n\nname = input(\"What is your name? \") # Notice the extra space\n\nprint()   #Print an empty time\nprint(\"Hello\", name, \"today's date is:\", date.today())",
      "execution_count": 33,
      "outputs": [
        {
          "output_type": "stream",
          "name": "stdout",
          "text": "What is your name? Lukas\n\nHello Lukas today's date is: 2020-06-03\n"
        }
      ]
    },
    {
      "metadata": {
        "trusted": true
      },
      "cell_type": "code",
      "source": "# Example 2, hint use int function to convert to a number\nr = input(\"What is the equivalent resistance? \")\n\nV = 5                      # voltage source\nR = int(r)                 # need to convert string into an integer\n# print(\"R\", R, type(R))   # just for debugging\nI = V/R\nprint(\"Given\", V, \"v power source, the current is I =\", I, \"amps.\")",
      "execution_count": 32,
      "outputs": [
        {
          "output_type": "stream",
          "name": "stdout",
          "text": "What is the equivalent resistance? 2\nGiven 5 v power source, the current is I = 2.5 amps.\n"
        }
      ]
    },
    {
      "metadata": {
        "trusted": true
      },
      "cell_type": "code",
      "source": "# A python block\n# All blocks must be idented by spaces (or tabs -- but don't mix)\nx = True\ny = False\n\nif x or y:\n    \n    print(\"1. x or y is True\")\n    \n    if x and y:\n        print(\"2. x and y is True\")\n        \nprint(\"3. Done!\")",
      "execution_count": 36,
      "outputs": [
        {
          "output_type": "stream",
          "text": "1. x or y is True\n3. Done!\n",
          "name": "stdout"
        }
      ]
    },
    {
      "metadata": {
        "trusted": true
      },
      "cell_type": "code",
      "source": "x = False\ny = False\n\nif x or y:\n    \n    print(\"1. x or y is True\")\n    \n    if x and y:\n        print(\"2. x and y is True\")\n        \nprint(\"3. Done!\")",
      "execution_count": 37,
      "outputs": [
        {
          "output_type": "stream",
          "text": "3. Done!\n",
          "name": "stdout"
        }
      ]
    },
    {
      "metadata": {
        "trusted": true
      },
      "cell_type": "code",
      "source": "x = False\ny = True\n\nif x or y:   # Evaluating y is redundant\n    \n    print(\"1. x or y is True\")\n    \n    if x and y:\n        print(\"2. x and y is True\")\n        \nprint(\"3. Done!\")",
      "execution_count": 39,
      "outputs": [
        {
          "output_type": "stream",
          "text": "1. x or y is True\n3. Done!\n",
          "name": "stdout"
        }
      ]
    },
    {
      "metadata": {
        "trusted": true
      },
      "cell_type": "code",
      "source": "x = 1\ny = 0\n\nif x & y:\n    print(\"AND\")\nelif x | y:\n    print(\"OR\")\nelse:\n    print(\"??\")",
      "execution_count": 40,
      "outputs": [
        {
          "output_type": "stream",
          "text": "OR\n",
          "name": "stdout"
        }
      ]
    },
    {
      "metadata": {
        "trusted": true
      },
      "cell_type": "code",
      "source": "# Looks like a Python block\ndef FunctionName(arguments):\n    # do some processing\n    \n    # not required but could return any python object\n    return something\n\n# calling a function and assigning the return value\nv = FunctionName(arguments)",
      "execution_count": 44,
      "outputs": [
        {
          "output_type": "error",
          "ename": "NameError",
          "evalue": "name 'arguments' is not defined",
          "traceback": [
            "\u001b[0;31m---------------------------------------------------------------------------\u001b[0m",
            "\u001b[0;31mNameError\u001b[0m                                 Traceback (most recent call last)",
            "\u001b[0;32m<ipython-input-44-f33350066b3f>\u001b[0m in \u001b[0;36m<module>\u001b[0;34m\u001b[0m\n\u001b[1;32m      7\u001b[0m \u001b[0;34m\u001b[0m\u001b[0m\n\u001b[1;32m      8\u001b[0m \u001b[0;31m# calling a function and assigning the return value\u001b[0m\u001b[0;34m\u001b[0m\u001b[0;34m\u001b[0m\u001b[0m\n\u001b[0;32m----> 9\u001b[0;31m \u001b[0mv\u001b[0m \u001b[0;34m=\u001b[0m \u001b[0mFunctionName\u001b[0m\u001b[0;34m(\u001b[0m\u001b[0marguments\u001b[0m\u001b[0;34m)\u001b[0m\u001b[0;34m\u001b[0m\u001b[0m\n\u001b[0m",
            "\u001b[0;31mNameError\u001b[0m: name 'arguments' is not defined"
          ]
        }
      ]
    },
    {
      "metadata": {
        "trusted": true
      },
      "cell_type": "code",
      "source": "def logic(x, y):\n    if x or y:\n        print(\"1. x or y is True\")\n        \n        if x and y:\n            print(\"2. x and y is True\")\n            \n    print(\"3. Done!\")\n    \nlogic(True, False)\nprint()\nlogic(True, True)",
      "execution_count": 41,
      "outputs": [
        {
          "output_type": "stream",
          "text": "1. x or y is True\n3. Done!\n\n1. x or y is True\n2. x and y is True\n3. Done!\n",
          "name": "stdout"
        }
      ]
    },
    {
      "metadata": {
        "trusted": true
      },
      "cell_type": "code",
      "source": "def logic(x, y):\n    if x or y:\n        print(\"1. x or y is True\")\n        \n        if x and y:\n            print(\"2. x and y is True\")\n            print(\"Hello World\")    # Notice that this is printed under the above line\n            \n    print(\"3. Done!\")\n    \nlogic(True, False)\nprint()\nlogic(True, True)",
      "execution_count": 43,
      "outputs": [
        {
          "output_type": "stream",
          "text": "1. x or y is True\n3. Done!\n\n1. x or y is True\n2. x and y is True\nHello World\n3. Done!\n",
          "name": "stdout"
        }
      ]
    },
    {
      "metadata": {
        "trusted": true
      },
      "cell_type": "code",
      "source": "from ipywidgets import interact\n\ndef foo(x):\n    print(\"x is:\", x)\n    \nfoo(13)",
      "execution_count": 47,
      "outputs": [
        {
          "output_type": "stream",
          "text": "x is: 13\n",
          "name": "stdout"
        }
      ]
    },
    {
      "metadata": {
        "trusted": true
      },
      "cell_type": "code",
      "source": "from ipywidgets import interact\n\n@interact(x = 10)\ndef foo(x):\n    print(\"x is:\", x)",
      "execution_count": 74,
      "outputs": [
        {
          "output_type": "display_data",
          "data": {
            "application/vnd.jupyter.widget-view+json": {
              "model_id": "705a7fb2acd94d3f9737898b233a7128",
              "version_minor": 0,
              "version_major": 2
            },
            "text/plain": "interactive(children=(IntSlider(value=10, description='x', max=30, min=-10), Output()), _dom_classes=('widget-…"
          },
          "metadata": {}
        }
      ]
    },
    {
      "metadata": {
        "trusted": true
      },
      "cell_type": "code",
      "source": "# x as str\n@interact(x = \"10\")\ndef foo(x):\n    print(\"x is:\", x, int(x)*2)",
      "execution_count": 75,
      "outputs": [
        {
          "output_type": "display_data",
          "data": {
            "application/vnd.jupyter.widget-view+json": {
              "model_id": "0824c68c4f1e4c2b8def27f751b01e1c",
              "version_minor": 0,
              "version_major": 2
            },
            "text/plain": "interactive(children=(Text(value='10', description='x'), Output()), _dom_classes=('widget-interact',))"
          },
          "metadata": {}
        }
      ]
    },
    {
      "metadata": {
        "trusted": true
      },
      "cell_type": "code",
      "source": "# x, y as True/False\n@interact(x = True, y = False)   # check boxes\ndef logic(x, y):\n    \n    if x or y:\n        print(\"1. x or y is\", x or y)\n        \n        if x and y:\n            print(\"2. x and y\", x and y)\n            \n    print(\"3. Done!\")",
      "execution_count": 76,
      "outputs": [
        {
          "output_type": "display_data",
          "data": {
            "application/vnd.jupyter.widget-view+json": {
              "model_id": "ee3bccb70667420eb394847127fc34f7",
              "version_minor": 0,
              "version_major": 2
            },
            "text/plain": "interactive(children=(Checkbox(value=True, description='x'), Checkbox(value=False, description='y'), Output())…"
          },
          "metadata": {}
        }
      ]
    },
    {
      "metadata": {
        "trusted": true
      },
      "cell_type": "code",
      "source": "# while loop\nx = 0\nwhile x < 6:\n    x = x + 1   # add 1 to variable x\n    print(x)",
      "execution_count": 2,
      "outputs": [
        {
          "output_type": "stream",
          "text": "1\n2\n3\n4\n5\n6\n",
          "name": "stdout"
        }
      ]
    },
    {
      "metadata": {
        "trusted": true
      },
      "cell_type": "code",
      "source": "x = 0\nwhile x <= 6:\n    x = x + 1\n    print(x)",
      "execution_count": 4,
      "outputs": [
        {
          "output_type": "stream",
          "text": "1\n2\n3\n4\n5\n6\n7\n",
          "name": "stdout"
        }
      ]
    },
    {
      "metadata": {
        "trusted": true
      },
      "cell_type": "code",
      "source": "# another while loop\nx = 0 \nwhile True:\n    x = x + 1\n    if x > 6: break    # inside loop\n    print(x)",
      "execution_count": 5,
      "outputs": [
        {
          "output_type": "stream",
          "text": "1\n2\n3\n4\n5\n6\n",
          "name": "stdout"
        }
      ]
    },
    {
      "metadata": {
        "trusted": true
      },
      "cell_type": "code",
      "source": "# the for loop\nname = \"Clark\"\nfor item in name:\n    print(item, end=\" \")   # more  control over the print statement",
      "execution_count": 6,
      "outputs": [
        {
          "output_type": "stream",
          "text": "C l a r k ",
          "name": "stdout"
        }
      ]
    },
    {
      "metadata": {
        "trusted": true
      },
      "cell_type": "code",
      "source": "# there is only one line in the block above, so they can be entered as a single sentence\nname = \"Clark\"\nfor item in name: print(item, end=\" \")",
      "execution_count": 8,
      "outputs": [
        {
          "output_type": "stream",
          "text": "C l a r k ",
          "name": "stdout"
        }
      ]
    },
    {
      "metadata": {
        "trusted": true
      },
      "cell_type": "code",
      "source": "# the if statement\nx = True\nif x == x: pass   # using **pass** to do nothing; acts as placeholder if you want to come back later\nelse: pass",
      "execution_count": 7,
      "outputs": []
    },
    {
      "metadata": {
        "trusted": true
      },
      "cell_type": "code",
      "source": "for x in range(97, 100):\n    print(\"x:\", x, \"chr:\", chr(x))\n    ",
      "execution_count": 12,
      "outputs": [
        {
          "output_type": "stream",
          "text": "x: 97 chr: a\nx: 98 chr: b\nx: 99 chr: c\n",
          "name": "stdout"
        }
      ]
    },
    {
      "metadata": {
        "trusted": true
      },
      "cell_type": "code",
      "source": "# go from 0 up to but not including 3 step 1 by default\nfor x in range(3): print(x)",
      "execution_count": 13,
      "outputs": [
        {
          "output_type": "stream",
          "text": "0\n1\n2\n",
          "name": "stdout"
        }
      ]
    },
    {
      "metadata": {
        "trusted": true
      },
      "cell_type": "code",
      "source": "# an example of what adding \"end\" does\nfor x in range(3):\n    print(x, end=\" - \")",
      "execution_count": 14,
      "outputs": [
        {
          "output_type": "stream",
          "text": "0 - 1 - 2 - ",
          "name": "stdout"
        }
      ]
    },
    {
      "metadata": {
        "trusted": true
      },
      "cell_type": "code",
      "source": "for x in range(3):\n    print(x, end=\"\")",
      "execution_count": 15,
      "outputs": [
        {
          "output_type": "stream",
          "text": "012",
          "name": "stdout"
        }
      ]
    },
    {
      "metadata": {
        "trusted": true
      },
      "cell_type": "code",
      "source": "# go up 2 up to but not including 5 step 1 by default\nfor x in range(2,5): print(x)",
      "execution_count": 18,
      "outputs": [
        {
          "output_type": "stream",
          "text": "2\n3\n4\n",
          "name": "stdout"
        }
      ]
    },
    {
      "metadata": {
        "trusted": true
      },
      "cell_type": "code",
      "source": "for x in range(2, 10, 2):   # third number in parenth. decides the step value\n    print(x, end=\" \")",
      "execution_count": 19,
      "outputs": [
        {
          "output_type": "stream",
          "text": "2 4 6 8 ",
          "name": "stdout"
        }
      ]
    },
    {
      "metadata": {
        "trusted": true
      },
      "cell_type": "code",
      "source": "for x in range(-2, -5, -1):\n    print(x)",
      "execution_count": 20,
      "outputs": [
        {
          "output_type": "stream",
          "text": "-2\n-3\n-4\n",
          "name": "stdout"
        }
      ]
    },
    {
      "metadata": {
        "trusted": true
      },
      "cell_type": "code",
      "source": "for x in range(-2, -10, -2):\n    print(x)",
      "execution_count": 21,
      "outputs": [
        {
          "output_type": "stream",
          "text": "-2\n-4\n-6\n-8\n",
          "name": "stdout"
        }
      ]
    },
    {
      "metadata": {
        "trusted": true
      },
      "cell_type": "code",
      "source": "# pseudo code for robot. Comments below are a part of pseudo code, then translated to Python\ndef moveRobot (robot):\n   \n    #IF robot has no obstacle in front:\n    if robot.isFrontClear():\n        \n        #call move robot\n        robot.move()\n        \n        #add the move command to the command history\n        cmdHistory.add(Action.MOVE)\n        \n        return True\n    \n    # don't move the robot\n    else: return False",
      "execution_count": null,
      "outputs": []
    },
    {
      "metadata": {
        "trusted": true
      },
      "cell_type": "code",
      "source": "if not \"\": print (\"hello\")",
      "execution_count": 22,
      "outputs": [
        {
          "output_type": "stream",
          "text": "hello\n",
          "name": "stdout"
        }
      ]
    },
    {
      "metadata": {
        "trusted": true
      },
      "cell_type": "code",
      "source": "type(False)\n# if not \"\": print (\"hello\")",
      "execution_count": 23,
      "outputs": [
        {
          "output_type": "execute_result",
          "execution_count": 23,
          "data": {
            "text/plain": "bool"
          },
          "metadata": {}
        }
      ]
    },
    {
      "metadata": {
        "trusted": true
      },
      "cell_type": "code",
      "source": "type(None)",
      "execution_count": 24,
      "outputs": [
        {
          "output_type": "execute_result",
          "execution_count": 24,
          "data": {
            "text/plain": "NoneType"
          },
          "metadata": {}
        }
      ]
    },
    {
      "metadata": {
        "trusted": true
      },
      "cell_type": "code",
      "source": "#    0123456789012\nx = 'I \"made\" this'\nx[0]",
      "execution_count": 29,
      "outputs": [
        {
          "output_type": "execute_result",
          "execution_count": 29,
          "data": {
            "text/plain": "'I'"
          },
          "metadata": {}
        }
      ]
    },
    {
      "metadata": {
        "trusted": true
      },
      "cell_type": "code",
      "source": "#    0123456789012\nx = 'I \"made\" this'\nx[1]",
      "execution_count": 30,
      "outputs": [
        {
          "output_type": "execute_result",
          "execution_count": 30,
          "data": {
            "text/plain": "' '"
          },
          "metadata": {}
        }
      ]
    },
    {
      "metadata": {
        "trusted": true
      },
      "cell_type": "code",
      "source": "#    0123456789012\nx = 'I \"made\" this'\nx[10]",
      "execution_count": 31,
      "outputs": [
        {
          "output_type": "execute_result",
          "execution_count": 31,
          "data": {
            "text/plain": "'h'"
          },
          "metadata": {}
        }
      ]
    },
    {
      "metadata": {
        "trusted": true
      },
      "cell_type": "code",
      "source": "#      01234\ncar = \"Honda\"\ncar[1]",
      "execution_count": 32,
      "outputs": [
        {
          "output_type": "execute_result",
          "execution_count": 32,
          "data": {
            "text/plain": "'o'"
          },
          "metadata": {}
        }
      ]
    },
    {
      "metadata": {
        "trusted": true
      },
      "cell_type": "code",
      "source": "x = '''\nI ride my bicycle\n    to work.\n'''\n\n# x = r\"I ride my bicycle\\n to work.\"\n\n\nprint(x)\nx",
      "execution_count": 36,
      "outputs": [
        {
          "output_type": "stream",
          "text": "\nI ride my bicycle\n    to work.\n\n",
          "name": "stdout"
        },
        {
          "output_type": "execute_result",
          "execution_count": 36,
          "data": {
            "text/plain": "'\\nI ride my bicycle\\n    to work.\\n'"
          },
          "metadata": {}
        }
      ]
    },
    {
      "metadata": {
        "trusted": true
      },
      "cell_type": "code",
      "source": "x = '''\nI ride my bicycle\n    to work.\n'''\n\nx = r\"I ride my bicycle\\n to work.\"\nprint(x)",
      "execution_count": 39,
      "outputs": [
        {
          "output_type": "stream",
          "text": "I ride my bicycle\\n to work.\n",
          "name": "stdout"
        }
      ]
    },
    {
      "metadata": {
        "trusted": true
      },
      "cell_type": "code",
      "source": "college = \"Clark\"\ncourse = \"CS120\"\n\nprint(f\"We're taking {course} at {college} college.\")",
      "execution_count": 42,
      "outputs": [
        {
          "output_type": "stream",
          "text": "We're taking CS120 at Clark college.\n",
          "name": "stdout"
        }
      ]
    },
    {
      "metadata": {
        "trusted": true
      },
      "cell_type": "code",
      "source": "college = \"Clark\"\ncourse = \"CS120\"\n\nprint(f\"Hello {college}, I'm taking {course} -- {1+1+1}!\")",
      "execution_count": 46,
      "outputs": [
        {
          "output_type": "stream",
          "text": "Hello Clark, I'm taking CS120 -- 3!\n",
          "name": "stdout"
        }
      ]
    },
    {
      "metadata": {
        "trusted": true
      },
      "cell_type": "code",
      "source": "from math import sin\n\nprint(f'''\nThis is my stuff::\nsin(1) is {sin(1):.3f}\n''')",
      "execution_count": 47,
      "outputs": [
        {
          "output_type": "stream",
          "text": "\nThis is my stuff::\nsin(1) is 0.841\n\n",
          "name": "stdout"
        }
      ]
    },
    {
      "metadata": {
        "trusted": true
      },
      "cell_type": "code",
      "source": "from math import pi\ns1 = \"Hello\"; s2 = \"World\"\n\n# More readable; faster for Python\nprint(f\"{s1} - {s2} : {pi}, {pi:.3f}\")\n\nvalue = 15\nprint(f\"int: {value:d}; hex: {value:#x}; oct: {value:#o}; bin:{value:#b}\")",
      "execution_count": 51,
      "outputs": [
        {
          "output_type": "stream",
          "text": "Hello - World : 3.141592653589793, 3.142\nint: 15; hex: 0xf; oct: 0o17; bin:0b1111\n",
          "name": "stdout"
        }
      ]
    },
    {
      "metadata": {
        "trusted": true
      },
      "cell_type": "code",
      "source": "college = \"Clark\"\ncourse = \"CS120\"\n\nmsg = f\"We're taking {course} at {college} college.\"\nmsg\n\ndef MySin(x):\n#   print(\"--- called with\", x)\n    return sin(x)\n\nfor i in range(10):\n    print(f\"The number is {MySin(i):.2f}\")",
      "execution_count": 52,
      "outputs": [
        {
          "output_type": "stream",
          "text": "The number is 0.00\nThe number is 0.84\nThe number is 0.91\nThe number is 0.14\nThe number is -0.76\nThe number is -0.96\nThe number is -0.28\nThe number is 0.66\nThe number is 0.99\nThe number is 0.41\n",
          "name": "stdout"
        }
      ]
    },
    {
      "metadata": {
        "trusted": true
      },
      "cell_type": "code",
      "source": "\"A|B|C\".split(\"|\")",
      "execution_count": 54,
      "outputs": [
        {
          "output_type": "execute_result",
          "execution_count": 54,
          "data": {
            "text/plain": "['A', 'B', 'C']"
          },
          "metadata": {}
        }
      ]
    },
    {
      "metadata": {
        "trusted": true
      },
      "cell_type": "code",
      "source": "x = \"A|B|C\"\nx.split(\"|\")\n\n#f\" *** {s/in(1)} \".join([\"A\", \"B\", \"C\"])",
      "execution_count": 57,
      "outputs": [
        {
          "output_type": "execute_result",
          "execution_count": 57,
          "data": {
            "text/plain": "['A', 'B', 'C']"
          },
          "metadata": {}
        }
      ]
    },
    {
      "metadata": {
        "trusted": true
      },
      "cell_type": "code",
      "source": "x = \"A|B|C\"\nx.split(\"|\")\n\n\"A|B|C\".split(\"|\")\n\n#f\" *** {s/in(1)} \".join([\"A\", \"B\", \"C\"])",
      "execution_count": 56,
      "outputs": [
        {
          "output_type": "execute_result",
          "execution_count": 56,
          "data": {
            "text/plain": "['A', 'B', 'C']"
          },
          "metadata": {}
        }
      ]
    },
    {
      "metadata": {
        "trusted": true
      },
      "cell_type": "code",
      "source": "\"|\".join([\"A\", \"B\", \"C\"])",
      "execution_count": 61,
      "outputs": [
        {
          "output_type": "execute_result",
          "execution_count": 61,
          "data": {
            "text/plain": "'A|B|C'"
          },
          "metadata": {}
        }
      ]
    },
    {
      "metadata": {
        "trusted": true
      },
      "cell_type": "code",
      "source": "\"\".join([\"A\", \"B\", \"C\"])",
      "execution_count": 62,
      "outputs": [
        {
          "output_type": "execute_result",
          "execution_count": 62,
          "data": {
            "text/plain": "'ABC'"
          },
          "metadata": {}
        }
      ]
    },
    {
      "metadata": {
        "trusted": true
      },
      "cell_type": "code",
      "source": "\"---\".join(['A', 'B', 'C'])\n\nout = \"\"\nfor x in ['A', 'B', 'C']:\n    out = out + x + \"---\"\n    \nout",
      "execution_count": 65,
      "outputs": [
        {
          "output_type": "execute_result",
          "execution_count": 65,
          "data": {
            "text/plain": "'A---B---C---'"
          },
          "metadata": {}
        }
      ]
    },
    {
      "metadata": {
        "trusted": true
      },
      "cell_type": "code",
      "source": "name = \"Clark\"\nname.find(\"l\")",
      "execution_count": 66,
      "outputs": [
        {
          "output_type": "execute_result",
          "execution_count": 66,
          "data": {
            "text/plain": "1"
          },
          "metadata": {}
        }
      ]
    },
    {
      "metadata": {
        "trusted": true
      },
      "cell_type": "code",
      "source": "name = \"Clark\"\nname.find(\"ar\")",
      "execution_count": 67,
      "outputs": [
        {
          "output_type": "execute_result",
          "execution_count": 67,
          "data": {
            "text/plain": "2"
          },
          "metadata": {}
        }
      ]
    },
    {
      "metadata": {
        "trusted": true
      },
      "cell_type": "code",
      "source": "name = \"Clark\"\nname.find(\"C\")",
      "execution_count": 69,
      "outputs": [
        {
          "output_type": "execute_result",
          "execution_count": 69,
          "data": {
            "text/plain": "0"
          },
          "metadata": {}
        }
      ]
    },
    {
      "metadata": {
        "trusted": true
      },
      "cell_type": "code",
      "source": "name = \"Clark\"\nif name.find(\"C\") > -1:\n    print(\"Found C!\")",
      "execution_count": 71,
      "outputs": [
        {
          "output_type": "stream",
          "text": "Found C!\n",
          "name": "stdout"
        }
      ]
    },
    {
      "metadata": {
        "trusted": true
      },
      "cell_type": "code",
      "source": "# Pythonic way of doing this\nname = \"Clark\"\n\"C\" in name",
      "execution_count": 72,
      "outputs": [
        {
          "output_type": "execute_result",
          "execution_count": 72,
          "data": {
            "text/plain": "True"
          },
          "metadata": {}
        }
      ]
    },
    {
      "metadata": {
        "trusted": true
      },
      "cell_type": "code",
      "source": "name = \"Clark\"\n\"w\" in name",
      "execution_count": 73,
      "outputs": [
        {
          "output_type": "execute_result",
          "execution_count": 73,
          "data": {
            "text/plain": "False"
          },
          "metadata": {}
        }
      ]
    },
    {
      "metadata": {
        "trusted": true
      },
      "cell_type": "code",
      "source": "",
      "execution_count": null,
      "outputs": []
    }
  ],
  "metadata": {
    "kernelspec": {
      "name": "python36",
      "display_name": "Python 3.6",
      "language": "python"
    },
    "language_info": {
      "mimetype": "text/x-python",
      "nbconvert_exporter": "python",
      "name": "python",
      "pygments_lexer": "ipython3",
      "version": "3.6.6",
      "file_extension": ".py",
      "codemirror_mode": {
        "version": 3,
        "name": "ipython"
      }
    }
  },
  "nbformat": 4,
  "nbformat_minor": 2
}