{
  "cells": [
    {
      "metadata": {
        "trusted": true
      },
      "cell_type": "code",
      "source": "print(\"Hello World\")",
      "execution_count": 8,
      "outputs": [
        {
          "output_type": "stream",
          "text": "Hello World\n",
          "name": "stdout"
        }
      ]
    },
    {
      "metadata": {
        "trusted": true
      },
      "cell_type": "code",
      "source": "print(\"hello world\")",
      "execution_count": 9,
      "outputs": [
        {
          "output_type": "stream",
          "text": "hello world\n",
          "name": "stdout"
        }
      ]
    },
    {
      "metadata": {
        "trusted": true
      },
      "cell_type": "code",
      "source": "\"hello world\"",
      "execution_count": 10,
      "outputs": [
        {
          "output_type": "execute_result",
          "execution_count": 10,
          "data": {
            "text/plain": "'hello world'"
          },
          "metadata": {}
        }
      ]
    },
    {
      "metadata": {
        "trusted": true
      },
      "cell_type": "code",
      "source": "(1+5)+6-3*3",
      "execution_count": 11,
      "outputs": [
        {
          "output_type": "execute_result",
          "execution_count": 11,
          "data": {
            "text/plain": "3"
          },
          "metadata": {}
        }
      ]
    },
    {
      "metadata": {
        "trusted": true
      },
      "cell_type": "code",
      "source": "\"------\" * 20",
      "execution_count": 12,
      "outputs": [
        {
          "output_type": "execute_result",
          "execution_count": 12,
          "data": {
            "text/plain": "'------------------------------------------------------------------------------------------------------------------------'"
          },
          "metadata": {}
        }
      ]
    },
    {
      "metadata": {
        "trusted": true
      },
      "cell_type": "code",
      "source": "print(\"hello\\nworld\")",
      "execution_count": 13,
      "outputs": [
        {
          "output_type": "stream",
          "text": "hello\nworld\n",
          "name": "stdout"
        }
      ]
    },
    {
      "metadata": {
        "trusted": true
      },
      "cell_type": "code",
      "source": "import math\nmath.sin(1)",
      "execution_count": 14,
      "outputs": [
        {
          "output_type": "execute_result",
          "execution_count": 14,
          "data": {
            "text/plain": "0.8414709848078965"
          },
          "metadata": {}
        }
      ]
    },
    {
      "metadata": {
        "trusted": true
      },
      "cell_type": "code",
      "source": "%precision 3\n\nimport math\nmath.sin(1)",
      "execution_count": 15,
      "outputs": [
        {
          "output_type": "execute_result",
          "execution_count": 15,
          "data": {
            "text/plain": "0.841"
          },
          "metadata": {}
        }
      ]
    },
    {
      "metadata": {
        "trusted": true
      },
      "cell_type": "code",
      "source": "%precision 3\n\nfrom sympy import simplify_logic\n\nsimplify_logic(\"a & b | a&c\")",
      "execution_count": 16,
      "outputs": [
        {
          "output_type": "execute_result",
          "execution_count": 16,
          "data": {
            "text/plain": "a & (b | c)"
          },
          "metadata": {}
        }
      ]
    },
    {
      "metadata": {
        "trusted": true
      },
      "cell_type": "code",
      "source": "%precision 3\n\nimport math\n\nprint(math.sin(1))\nmath.cos(math.pi/3)",
      "execution_count": 17,
      "outputs": [
        {
          "output_type": "stream",
          "text": "0.8414709848078965\n",
          "name": "stdout"
        },
        {
          "output_type": "execute_result",
          "execution_count": 17,
          "data": {
            "text/plain": "0.500"
          },
          "metadata": {}
        }
      ]
    },
    {
      "metadata": {
        "trusted": true
      },
      "cell_type": "code",
      "source": "import math\n\n# math.sin(2)\n# math.sin(1)",
      "execution_count": 18,
      "outputs": []
    },
    {
      "metadata": {
        "trusted": true
      },
      "cell_type": "code",
      "source": "\"13\"",
      "execution_count": 19,
      "outputs": [
        {
          "output_type": "execute_result",
          "execution_count": 19,
          "data": {
            "text/plain": "'13'"
          },
          "metadata": {}
        }
      ]
    },
    {
      "metadata": {
        "trusted": true
      },
      "cell_type": "code",
      "source": "\"13\" * 2",
      "execution_count": 20,
      "outputs": [
        {
          "output_type": "execute_result",
          "execution_count": 20,
          "data": {
            "text/plain": "'1313'"
          },
          "metadata": {}
        }
      ]
    },
    {
      "metadata": {
        "trusted": true
      },
      "cell_type": "code",
      "source": "type(\"13\")",
      "execution_count": 21,
      "outputs": [
        {
          "output_type": "execute_result",
          "execution_count": 21,
          "data": {
            "text/plain": "str"
          },
          "metadata": {}
        }
      ]
    },
    {
      "metadata": {
        "trusted": true
      },
      "cell_type": "code",
      "source": "int(\"13\")",
      "execution_count": 22,
      "outputs": [
        {
          "output_type": "execute_result",
          "execution_count": 22,
          "data": {
            "text/plain": "13"
          },
          "metadata": {}
        }
      ]
    },
    {
      "metadata": {
        "trusted": true
      },
      "cell_type": "code",
      "source": "type(int(\"13\"))",
      "execution_count": 23,
      "outputs": [
        {
          "output_type": "execute_result",
          "execution_count": 23,
          "data": {
            "text/plain": "int"
          },
          "metadata": {}
        }
      ]
    },
    {
      "metadata": {
        "trusted": true
      },
      "cell_type": "code",
      "source": "int(\"FF\", 16)",
      "execution_count": 24,
      "outputs": [
        {
          "output_type": "execute_result",
          "execution_count": 24,
          "data": {
            "text/plain": "255"
          },
          "metadata": {}
        }
      ]
    },
    {
      "metadata": {
        "trusted": true
      },
      "cell_type": "code",
      "source": "#int(\"FF\", 16)\nstr(121)",
      "execution_count": 25,
      "outputs": [
        {
          "output_type": "execute_result",
          "execution_count": 25,
          "data": {
            "text/plain": "'121'"
          },
          "metadata": {}
        }
      ]
    },
    {
      "metadata": {
        "trusted": true
      },
      "cell_type": "code",
      "source": "x = 13\ny = \"13\"\nprint(x*2, y*2)",
      "execution_count": 26,
      "outputs": [
        {
          "output_type": "stream",
          "text": "26 1313\n",
          "name": "stdout"
        }
      ]
    },
    {
      "metadata": {
        "trusted": true
      },
      "cell_type": "code",
      "source": "x = 13\ny = \"13\"\n#print(x*2, y*2)\nprint(13*2, \"13\"*2)",
      "execution_count": 27,
      "outputs": [
        {
          "output_type": "stream",
          "text": "26 1313\n",
          "name": "stdout"
        }
      ]
    },
    {
      "metadata": {
        "trusted": true
      },
      "cell_type": "code",
      "source": "int(\"0b1101\", 2)",
      "execution_count": 28,
      "outputs": [
        {
          "output_type": "execute_result",
          "execution_count": 28,
          "data": {
            "text/plain": "13"
          },
          "metadata": {}
        }
      ]
    },
    {
      "metadata": {
        "trusted": true
      },
      "cell_type": "code",
      "source": "int(\"0xf\", 16)",
      "execution_count": 29,
      "outputs": [
        {
          "output_type": "execute_result",
          "execution_count": 29,
          "data": {
            "text/plain": "15"
          },
          "metadata": {}
        }
      ]
    },
    {
      "metadata": {
        "trusted": true
      },
      "cell_type": "code",
      "source": "bin(13)",
      "execution_count": 30,
      "outputs": [
        {
          "output_type": "execute_result",
          "execution_count": 30,
          "data": {
            "text/plain": "'0b1101'"
          },
          "metadata": {}
        }
      ]
    },
    {
      "metadata": {
        "trusted": true
      },
      "cell_type": "code",
      "source": "hex(13)",
      "execution_count": 31,
      "outputs": [
        {
          "output_type": "execute_result",
          "execution_count": 31,
          "data": {
            "text/plain": "'0xd'"
          },
          "metadata": {}
        }
      ]
    },
    {
      "metadata": {
        "trusted": true
      },
      "cell_type": "code",
      "source": "chr(97)",
      "execution_count": 32,
      "outputs": [
        {
          "output_type": "execute_result",
          "execution_count": 32,
          "data": {
            "text/plain": "'a'"
          },
          "metadata": {}
        }
      ]
    },
    {
      "metadata": {
        "trusted": true
      },
      "cell_type": "code",
      "source": "ord(\"a\")",
      "execution_count": 33,
      "outputs": [
        {
          "output_type": "execute_result",
          "execution_count": 33,
          "data": {
            "text/plain": "97"
          },
          "metadata": {}
        }
      ]
    },
    {
      "metadata": {
        "trusted": true
      },
      "cell_type": "code",
      "source": "type(13) == int",
      "execution_count": 34,
      "outputs": [
        {
          "output_type": "execute_result",
          "execution_count": 34,
          "data": {
            "text/plain": "True"
          },
          "metadata": {}
        }
      ]
    },
    {
      "metadata": {
        "trusted": true
      },
      "cell_type": "code",
      "source": "type(13.0)",
      "execution_count": 35,
      "outputs": [
        {
          "output_type": "execute_result",
          "execution_count": 35,
          "data": {
            "text/plain": "float"
          },
          "metadata": {}
        }
      ]
    },
    {
      "metadata": {
        "trusted": true
      },
      "cell_type": "code",
      "source": "type(13.0) == int",
      "execution_count": 36,
      "outputs": [
        {
          "output_type": "execute_result",
          "execution_count": 36,
          "data": {
            "text/plain": "False"
          },
          "metadata": {}
        }
      ]
    },
    {
      "metadata": {
        "trusted": true
      },
      "cell_type": "code",
      "source": "type(\"13.0\")",
      "execution_count": 37,
      "outputs": [
        {
          "output_type": "execute_result",
          "execution_count": 37,
          "data": {
            "text/plain": "str"
          },
          "metadata": {}
        }
      ]
    },
    {
      "metadata": {
        "trusted": true
      },
      "cell_type": "code",
      "source": "type(\"13\") == str",
      "execution_count": 38,
      "outputs": [
        {
          "output_type": "execute_result",
          "execution_count": 38,
          "data": {
            "text/plain": "True"
          },
          "metadata": {}
        }
      ]
    },
    {
      "metadata": {
        "trusted": true
      },
      "cell_type": "code",
      "source": "x = \"this is a string\"\ny = 1\n\n\nprint (type(x), type(y), type(\"\"))",
      "execution_count": 39,
      "outputs": [
        {
          "output_type": "stream",
          "text": "<class 'str'> <class 'int'> <class 'str'>\n",
          "name": "stdout"
        }
      ]
    },
    {
      "metadata": {
        "trusted": true
      },
      "cell_type": "code",
      "source": "# Example 1\nfrom datetime import date\n\nname = input(\"What is your name? \") # Notice the extra space\n\nprint()   #Print an empty time\nprint(\"Hello\", name, \"today's date is:\", date.today())",
      "execution_count": 40,
      "outputs": [
        {
          "output_type": "stream",
          "name": "stdout",
          "text": "What is your name? Lukas\n\nHello Lukas today's date is: 2020-06-11\n"
        }
      ]
    },
    {
      "metadata": {
        "trusted": true
      },
      "cell_type": "code",
      "source": "# Example 2, hint use int function to convert to a number\nr = input(\"What is the equivalent resistance? \")\n\nV = 5                      # voltage source\nR = int(r)                 # need to convert string into an integer\n# print(\"R\", R, type(R))   # just for debugging\nI = V/R\nprint(\"Given\", V, \"v power source, the current is I =\", I, \"amps.\")",
      "execution_count": 41,
      "outputs": [
        {
          "output_type": "stream",
          "name": "stdout",
          "text": "What is the equivalent resistance? 2\nGiven 5 v power source, the current is I = 2.5 amps.\n"
        }
      ]
    },
    {
      "metadata": {
        "trusted": true
      },
      "cell_type": "code",
      "source": "# A python block\n# All blocks must be idented by spaces (or tabs -- but don't mix)\nx = True\ny = False\n\nif x or y:\n    \n    print(\"1. x or y is True\")\n    \n    if x and y:\n        print(\"2. x and y is True\")\n        \nprint(\"3. Done!\")",
      "execution_count": 42,
      "outputs": [
        {
          "output_type": "stream",
          "text": "1. x or y is True\n3. Done!\n",
          "name": "stdout"
        }
      ]
    },
    {
      "metadata": {
        "trusted": true
      },
      "cell_type": "code",
      "source": "x = False\ny = False\n\nif x or y:\n    \n    print(\"1. x or y is True\")\n    \n    if x and y:\n        print(\"2. x and y is True\")\n        \nprint(\"3. Done!\")",
      "execution_count": 43,
      "outputs": [
        {
          "output_type": "stream",
          "text": "3. Done!\n",
          "name": "stdout"
        }
      ]
    },
    {
      "metadata": {
        "trusted": true
      },
      "cell_type": "code",
      "source": "x = False\ny = True\n\nif x or y:   # Evaluating y is redundant\n    \n    print(\"1. x or y is True\")\n    \n    if x and y:\n        print(\"2. x and y is True\")\n        \nprint(\"3. Done!\")",
      "execution_count": 44,
      "outputs": [
        {
          "output_type": "stream",
          "text": "1. x or y is True\n3. Done!\n",
          "name": "stdout"
        }
      ]
    },
    {
      "metadata": {
        "trusted": true
      },
      "cell_type": "code",
      "source": "x = 1\ny = 0\n\nif x & y:\n    print(\"AND\")\nelif x | y:\n    print(\"OR\")\nelse:\n    print(\"??\")",
      "execution_count": 45,
      "outputs": [
        {
          "output_type": "stream",
          "text": "OR\n",
          "name": "stdout"
        }
      ]
    },
    {
      "metadata": {
        "trusted": true
      },
      "cell_type": "code",
      "source": "# Looks like a Python block\ndef FunctionName(arguments):\n    # do some processing\n    \n    # not required but could return any python object\n    return something\n\n# calling a function and assigning the return value\nv = FunctionName(arguments)",
      "execution_count": 46,
      "outputs": [
        {
          "output_type": "error",
          "ename": "NameError",
          "evalue": "name 'arguments' is not defined",
          "traceback": [
            "\u001b[0;31m---------------------------------------------------------------------------\u001b[0m",
            "\u001b[0;31mNameError\u001b[0m                                 Traceback (most recent call last)",
            "\u001b[0;32m<ipython-input-46-f33350066b3f>\u001b[0m in \u001b[0;36m<module>\u001b[0;34m\u001b[0m\n\u001b[1;32m      7\u001b[0m \u001b[0;34m\u001b[0m\u001b[0m\n\u001b[1;32m      8\u001b[0m \u001b[0;31m# calling a function and assigning the return value\u001b[0m\u001b[0;34m\u001b[0m\u001b[0;34m\u001b[0m\u001b[0m\n\u001b[0;32m----> 9\u001b[0;31m \u001b[0mv\u001b[0m \u001b[0;34m=\u001b[0m \u001b[0mFunctionName\u001b[0m\u001b[0;34m(\u001b[0m\u001b[0marguments\u001b[0m\u001b[0;34m)\u001b[0m\u001b[0;34m\u001b[0m\u001b[0m\n\u001b[0m",
            "\u001b[0;31mNameError\u001b[0m: name 'arguments' is not defined"
          ]
        }
      ]
    },
    {
      "metadata": {
        "trusted": true
      },
      "cell_type": "code",
      "source": "def logic(x, y):\n    if x or y:\n        print(\"1. x or y is True\")\n        \n        if x and y:\n            print(\"2. x and y is True\")\n            \n    print(\"3. Done!\")\n    \nlogic(True, False)\nprint()\nlogic(True, True)",
      "execution_count": 47,
      "outputs": [
        {
          "output_type": "stream",
          "text": "1. x or y is True\n3. Done!\n\n1. x or y is True\n2. x and y is True\n3. Done!\n",
          "name": "stdout"
        }
      ]
    },
    {
      "metadata": {
        "trusted": true
      },
      "cell_type": "code",
      "source": "def logic(x, y):\n    if x or y:\n        print(\"1. x or y is True\")\n        \n        if x and y:\n            print(\"2. x and y is True\")\n            print(\"Hello World\")    # Notice that this is printed under the above line\n            \n    print(\"3. Done!\")\n    \nlogic(True, False)\nprint()\nlogic(True, True)",
      "execution_count": 48,
      "outputs": [
        {
          "output_type": "stream",
          "text": "1. x or y is True\n3. Done!\n\n1. x or y is True\n2. x and y is True\nHello World\n3. Done!\n",
          "name": "stdout"
        }
      ]
    },
    {
      "metadata": {
        "trusted": true
      },
      "cell_type": "code",
      "source": "from ipywidgets import interact\n\ndef foo(x):\n    print(\"x is:\", x)\n    \nfoo(13)",
      "execution_count": 49,
      "outputs": [
        {
          "output_type": "stream",
          "text": "x is: 13\n",
          "name": "stdout"
        }
      ]
    },
    {
      "metadata": {
        "trusted": true
      },
      "cell_type": "code",
      "source": "from ipywidgets import interact\n\n@interact(x = 10)\ndef foo(x):\n    print(\"x is:\", x)",
      "execution_count": 50,
      "outputs": [
        {
          "output_type": "display_data",
          "data": {
            "application/vnd.jupyter.widget-view+json": {
              "model_id": "0693616e3b624c9cb4186aa0824569ae",
              "version_minor": 0,
              "version_major": 2
            },
            "text/plain": "interactive(children=(IntSlider(value=10, description='x', max=30, min=-10), Output()), _dom_classes=('widget-…"
          },
          "metadata": {}
        }
      ]
    },
    {
      "metadata": {
        "trusted": true
      },
      "cell_type": "code",
      "source": "# x as str\n@interact(x = \"10\")\ndef foo(x):\n    print(\"x is:\", x, int(x)*2)",
      "execution_count": 51,
      "outputs": [
        {
          "output_type": "display_data",
          "data": {
            "application/vnd.jupyter.widget-view+json": {
              "model_id": "e8d1ebf3e0e84c4183e4c7edf9c3a1a4",
              "version_minor": 0,
              "version_major": 2
            },
            "text/plain": "interactive(children=(Text(value='10', description='x'), Output()), _dom_classes=('widget-interact',))"
          },
          "metadata": {}
        }
      ]
    },
    {
      "metadata": {
        "trusted": true
      },
      "cell_type": "code",
      "source": "# x, y as True/False\n@interact(x = True, y = False)   # check boxes\ndef logic(x, y):\n    \n    if x or y:\n        print(\"1. x or y is\", x or y)\n        \n        if x and y:\n            print(\"2. x and y\", x and y)\n            \n    print(\"3. Done!\")",
      "execution_count": 52,
      "outputs": [
        {
          "output_type": "display_data",
          "data": {
            "application/vnd.jupyter.widget-view+json": {
              "model_id": "768d5922251c41b78644653959d597cd",
              "version_minor": 0,
              "version_major": 2
            },
            "text/plain": "interactive(children=(Checkbox(value=True, description='x'), Checkbox(value=False, description='y'), Output())…"
          },
          "metadata": {}
        }
      ]
    },
    {
      "metadata": {
        "trusted": true
      },
      "cell_type": "code",
      "source": "# while loop\nx = 0\nwhile x < 6:\n    x = x + 1   # add 1 to variable x\n    print(x)",
      "execution_count": 53,
      "outputs": [
        {
          "output_type": "stream",
          "text": "1\n2\n3\n4\n5\n6\n",
          "name": "stdout"
        }
      ]
    },
    {
      "metadata": {
        "trusted": true
      },
      "cell_type": "code",
      "source": "x = 0\nwhile x <= 6:\n    x = x + 1\n    print(x)",
      "execution_count": 54,
      "outputs": [
        {
          "output_type": "stream",
          "text": "1\n2\n3\n4\n5\n6\n7\n",
          "name": "stdout"
        }
      ]
    },
    {
      "metadata": {
        "trusted": true
      },
      "cell_type": "code",
      "source": "# another while loop\nx = 0 \nwhile True:\n    x = x + 1\n    if x > 6: break    # inside loop\n    print(x)",
      "execution_count": 55,
      "outputs": [
        {
          "output_type": "stream",
          "text": "1\n2\n3\n4\n5\n6\n",
          "name": "stdout"
        }
      ]
    },
    {
      "metadata": {
        "trusted": true
      },
      "cell_type": "code",
      "source": "# the for loop\nname = \"Clark\"\nfor item in name:\n    print(item, end=\" \")   # more  control over the print statement",
      "execution_count": 56,
      "outputs": [
        {
          "output_type": "stream",
          "text": "C l a r k ",
          "name": "stdout"
        }
      ]
    },
    {
      "metadata": {
        "trusted": true
      },
      "cell_type": "code",
      "source": "# there is only one line in the block above, so they can be entered as a single sentence\nname = \"Clark\"\nfor item in name: print(item, end=\" \")",
      "execution_count": 57,
      "outputs": [
        {
          "output_type": "stream",
          "text": "C l a r k ",
          "name": "stdout"
        }
      ]
    },
    {
      "metadata": {
        "trusted": true
      },
      "cell_type": "code",
      "source": "# the if statement\nx = True\nif x == x: pass   # using **pass** to do nothing; acts as placeholder if you want to come back later\nelse: pass",
      "execution_count": 58,
      "outputs": []
    },
    {
      "metadata": {
        "trusted": true
      },
      "cell_type": "code",
      "source": "for x in range(97, 100):\n    print(\"x:\", x, \"chr:\", chr(x))\n    ",
      "execution_count": 59,
      "outputs": [
        {
          "output_type": "stream",
          "text": "x: 97 chr: a\nx: 98 chr: b\nx: 99 chr: c\n",
          "name": "stdout"
        }
      ]
    },
    {
      "metadata": {
        "trusted": true
      },
      "cell_type": "code",
      "source": "# go from 0 up to but not including 3 step 1 by default\nfor x in range(3): print(x)",
      "execution_count": 60,
      "outputs": [
        {
          "output_type": "stream",
          "text": "0\n1\n2\n",
          "name": "stdout"
        }
      ]
    },
    {
      "metadata": {
        "trusted": true
      },
      "cell_type": "code",
      "source": "# an example of what adding \"end\" does\nfor x in range(3):\n    print(x, end=\" - \")",
      "execution_count": 61,
      "outputs": [
        {
          "output_type": "stream",
          "text": "0 - 1 - 2 - ",
          "name": "stdout"
        }
      ]
    },
    {
      "metadata": {
        "trusted": true
      },
      "cell_type": "code",
      "source": "for x in range(3):\n    print(x, end=\"\")",
      "execution_count": 62,
      "outputs": [
        {
          "output_type": "stream",
          "text": "012",
          "name": "stdout"
        }
      ]
    },
    {
      "metadata": {
        "trusted": true
      },
      "cell_type": "code",
      "source": "# go up 2 up to but not including 5 step 1 by default\nfor x in range(2,5): print(x)",
      "execution_count": 63,
      "outputs": [
        {
          "output_type": "stream",
          "text": "2\n3\n4\n",
          "name": "stdout"
        }
      ]
    },
    {
      "metadata": {
        "trusted": true
      },
      "cell_type": "code",
      "source": "for x in range(2, 10, 2):   # third number in parenth. decides the step value\n    print(x, end=\" \")",
      "execution_count": 64,
      "outputs": [
        {
          "output_type": "stream",
          "text": "2 4 6 8 ",
          "name": "stdout"
        }
      ]
    },
    {
      "metadata": {
        "trusted": true
      },
      "cell_type": "code",
      "source": "for x in range(-2, -5, -1):\n    print(x)",
      "execution_count": 65,
      "outputs": [
        {
          "output_type": "stream",
          "text": "-2\n-3\n-4\n",
          "name": "stdout"
        }
      ]
    },
    {
      "metadata": {
        "trusted": true
      },
      "cell_type": "code",
      "source": "for x in range(-2, -10, -2):\n    print(x)",
      "execution_count": 66,
      "outputs": [
        {
          "output_type": "stream",
          "text": "-2\n-4\n-6\n-8\n",
          "name": "stdout"
        }
      ]
    },
    {
      "metadata": {
        "trusted": true
      },
      "cell_type": "code",
      "source": "# pseudo code for robot. Comments below are a part of pseudo code, then translated to Python\ndef moveRobot (robot):\n   \n    #IF robot has no obstacle in front:\n    if robot.isFrontClear():\n        \n        #call move robot\n        robot.move()\n        \n        #add the move command to the command history\n        cmdHistory.add(Action.MOVE)\n        \n        return True\n    \n    # don't move the robot\n    else: return False",
      "execution_count": 67,
      "outputs": []
    },
    {
      "metadata": {
        "trusted": true
      },
      "cell_type": "code",
      "source": "if not \"\": print (\"hello\")",
      "execution_count": 68,
      "outputs": [
        {
          "output_type": "stream",
          "text": "hello\n",
          "name": "stdout"
        }
      ]
    },
    {
      "metadata": {
        "trusted": true
      },
      "cell_type": "code",
      "source": "type(False)\n# if not \"\": print (\"hello\")",
      "execution_count": 69,
      "outputs": [
        {
          "output_type": "execute_result",
          "execution_count": 69,
          "data": {
            "text/plain": "bool"
          },
          "metadata": {}
        }
      ]
    },
    {
      "metadata": {
        "trusted": true
      },
      "cell_type": "code",
      "source": "type(None)",
      "execution_count": 70,
      "outputs": [
        {
          "output_type": "execute_result",
          "execution_count": 70,
          "data": {
            "text/plain": "NoneType"
          },
          "metadata": {}
        }
      ]
    },
    {
      "metadata": {
        "trusted": true
      },
      "cell_type": "code",
      "source": "#    0123456789012\nx = 'I \"made\" this'\nx[0]",
      "execution_count": 71,
      "outputs": [
        {
          "output_type": "execute_result",
          "execution_count": 71,
          "data": {
            "text/plain": "'I'"
          },
          "metadata": {}
        }
      ]
    },
    {
      "metadata": {
        "trusted": true
      },
      "cell_type": "code",
      "source": "#    0123456789012\nx = 'I \"made\" this'\nx[1]",
      "execution_count": 72,
      "outputs": [
        {
          "output_type": "execute_result",
          "execution_count": 72,
          "data": {
            "text/plain": "' '"
          },
          "metadata": {}
        }
      ]
    },
    {
      "metadata": {
        "trusted": true
      },
      "cell_type": "code",
      "source": "#    0123456789012\nx = 'I \"made\" this'\nx[10]",
      "execution_count": 73,
      "outputs": [
        {
          "output_type": "execute_result",
          "execution_count": 73,
          "data": {
            "text/plain": "'h'"
          },
          "metadata": {}
        }
      ]
    },
    {
      "metadata": {
        "trusted": true
      },
      "cell_type": "code",
      "source": "#      01234\ncar = \"Honda\"\ncar[1]",
      "execution_count": 74,
      "outputs": [
        {
          "output_type": "execute_result",
          "execution_count": 74,
          "data": {
            "text/plain": "'o'"
          },
          "metadata": {}
        }
      ]
    },
    {
      "metadata": {
        "trusted": true
      },
      "cell_type": "code",
      "source": "x = '''\nI ride my bicycle\n    to work.\n'''\n\n# x = r\"I ride my bicycle\\n to work.\"\n\n\nprint(x)\nx",
      "execution_count": 75,
      "outputs": [
        {
          "output_type": "stream",
          "text": "\nI ride my bicycle\n    to work.\n\n",
          "name": "stdout"
        },
        {
          "output_type": "execute_result",
          "execution_count": 75,
          "data": {
            "text/plain": "'\\nI ride my bicycle\\n    to work.\\n'"
          },
          "metadata": {}
        }
      ]
    },
    {
      "metadata": {
        "trusted": true
      },
      "cell_type": "code",
      "source": "x = '''\nI ride my bicycle\n    to work.\n'''\n\nx = r\"I ride my bicycle\\n to work.\"\nprint(x)",
      "execution_count": 76,
      "outputs": [
        {
          "output_type": "stream",
          "text": "I ride my bicycle\\n to work.\n",
          "name": "stdout"
        }
      ]
    },
    {
      "metadata": {
        "trusted": true
      },
      "cell_type": "code",
      "source": "college = \"Clark\"\ncourse = \"CS120\"\n\nprint(f\"We're taking {course} at {college} college.\")",
      "execution_count": 77,
      "outputs": [
        {
          "output_type": "stream",
          "text": "We're taking CS120 at Clark college.\n",
          "name": "stdout"
        }
      ]
    },
    {
      "metadata": {
        "trusted": true
      },
      "cell_type": "code",
      "source": "college = \"Clark\"\ncourse = \"CS120\"\n\nprint(f\"Hello {college}, I'm taking {course} -- {1+1+1}!\")",
      "execution_count": 78,
      "outputs": [
        {
          "output_type": "stream",
          "text": "Hello Clark, I'm taking CS120 -- 3!\n",
          "name": "stdout"
        }
      ]
    },
    {
      "metadata": {
        "trusted": true
      },
      "cell_type": "code",
      "source": "from math import sin\n\nprint(f'''\nThis is my stuff::\nsin(1) is {sin(1):.3f}\n''')",
      "execution_count": 79,
      "outputs": [
        {
          "output_type": "stream",
          "text": "\nThis is my stuff::\nsin(1) is 0.841\n\n",
          "name": "stdout"
        }
      ]
    },
    {
      "metadata": {
        "trusted": true
      },
      "cell_type": "code",
      "source": "from math import pi\ns1 = \"Hello\"; s2 = \"World\"\n\n# More readable; faster for Python\nprint(f\"{s1} - {s2} : {pi}, {pi:.3f}\")\n\nvalue = 15\nprint(f\"int: {value:d}; hex: {value:#x}; oct: {value:#o}; bin:{value:#b}\")",
      "execution_count": 80,
      "outputs": [
        {
          "output_type": "stream",
          "text": "Hello - World : 3.141592653589793, 3.142\nint: 15; hex: 0xf; oct: 0o17; bin:0b1111\n",
          "name": "stdout"
        }
      ]
    },
    {
      "metadata": {
        "trusted": true
      },
      "cell_type": "code",
      "source": "college = \"Clark\"\ncourse = \"CS120\"\n\nmsg = f\"We're taking {course} at {college} college.\"\nmsg\n\ndef MySin(x):\n#   print(\"--- called with\", x)\n    return sin(x)\n\nfor i in range(10):\n    print(f\"The number is {MySin(i):.2f}\")",
      "execution_count": 81,
      "outputs": [
        {
          "output_type": "stream",
          "text": "The number is 0.00\nThe number is 0.84\nThe number is 0.91\nThe number is 0.14\nThe number is -0.76\nThe number is -0.96\nThe number is -0.28\nThe number is 0.66\nThe number is 0.99\nThe number is 0.41\n",
          "name": "stdout"
        }
      ]
    },
    {
      "metadata": {
        "trusted": true
      },
      "cell_type": "code",
      "source": "\"A|B|C\".split(\"|\")",
      "execution_count": 82,
      "outputs": [
        {
          "output_type": "execute_result",
          "execution_count": 82,
          "data": {
            "text/plain": "['A', 'B', 'C']"
          },
          "metadata": {}
        }
      ]
    },
    {
      "metadata": {
        "trusted": true
      },
      "cell_type": "code",
      "source": "x = \"A|B|C\"\nx.split(\"|\")\n\n#f\" *** {s/in(1)} \".join([\"A\", \"B\", \"C\"])",
      "execution_count": 83,
      "outputs": [
        {
          "output_type": "execute_result",
          "execution_count": 83,
          "data": {
            "text/plain": "['A', 'B', 'C']"
          },
          "metadata": {}
        }
      ]
    },
    {
      "metadata": {
        "trusted": true
      },
      "cell_type": "code",
      "source": "x = \"A|B|C\"\nx.split(\"|\")\n\n\"A|B|C\".split(\"|\")\n\n#f\" *** {s/in(1)} \".join([\"A\", \"B\", \"C\"])",
      "execution_count": 84,
      "outputs": [
        {
          "output_type": "execute_result",
          "execution_count": 84,
          "data": {
            "text/plain": "['A', 'B', 'C']"
          },
          "metadata": {}
        }
      ]
    },
    {
      "metadata": {
        "trusted": true
      },
      "cell_type": "code",
      "source": "\"|\".join([\"A\", \"B\", \"C\"])",
      "execution_count": 85,
      "outputs": [
        {
          "output_type": "execute_result",
          "execution_count": 85,
          "data": {
            "text/plain": "'A|B|C'"
          },
          "metadata": {}
        }
      ]
    },
    {
      "metadata": {
        "trusted": true
      },
      "cell_type": "code",
      "source": "\"\".join([\"A\", \"B\", \"C\"])",
      "execution_count": 86,
      "outputs": [
        {
          "output_type": "execute_result",
          "execution_count": 86,
          "data": {
            "text/plain": "'ABC'"
          },
          "metadata": {}
        }
      ]
    },
    {
      "metadata": {
        "trusted": true
      },
      "cell_type": "code",
      "source": "\"---\".join(['A', 'B', 'C'])\n\nout = \"\"\nfor x in ['A', 'B', 'C']:\n    out = out + x + \"---\"\n    \nout",
      "execution_count": 87,
      "outputs": [
        {
          "output_type": "execute_result",
          "execution_count": 87,
          "data": {
            "text/plain": "'A---B---C---'"
          },
          "metadata": {}
        }
      ]
    },
    {
      "metadata": {
        "trusted": true
      },
      "cell_type": "code",
      "source": "name = \"Clark\"\nname.find(\"l\")",
      "execution_count": 88,
      "outputs": [
        {
          "output_type": "execute_result",
          "execution_count": 88,
          "data": {
            "text/plain": "1"
          },
          "metadata": {}
        }
      ]
    },
    {
      "metadata": {
        "trusted": true
      },
      "cell_type": "code",
      "source": "name = \"Clark\"\nname.find(\"ar\")",
      "execution_count": 89,
      "outputs": [
        {
          "output_type": "execute_result",
          "execution_count": 89,
          "data": {
            "text/plain": "2"
          },
          "metadata": {}
        }
      ]
    },
    {
      "metadata": {
        "trusted": true
      },
      "cell_type": "code",
      "source": "name = \"Clark\"\nname.find(\"C\")",
      "execution_count": 90,
      "outputs": [
        {
          "output_type": "execute_result",
          "execution_count": 90,
          "data": {
            "text/plain": "0"
          },
          "metadata": {}
        }
      ]
    },
    {
      "metadata": {
        "trusted": true
      },
      "cell_type": "code",
      "source": "name = \"Clark\"\nif name.find(\"C\") > -1:\n    print(\"Found C!\")",
      "execution_count": 91,
      "outputs": [
        {
          "output_type": "stream",
          "text": "Found C!\n",
          "name": "stdout"
        }
      ]
    },
    {
      "metadata": {
        "trusted": true
      },
      "cell_type": "code",
      "source": "# Pythonic way of doing this\nname = \"Clark\"\n\"C\" in name",
      "execution_count": 92,
      "outputs": [
        {
          "output_type": "execute_result",
          "execution_count": 92,
          "data": {
            "text/plain": "True"
          },
          "metadata": {}
        }
      ]
    },
    {
      "metadata": {
        "trusted": true
      },
      "cell_type": "code",
      "source": "name = \"Clark\"\n\"w\" in name",
      "execution_count": 93,
      "outputs": [
        {
          "output_type": "execute_result",
          "execution_count": 93,
          "data": {
            "text/plain": "False"
          },
          "metadata": {}
        }
      ]
    },
    {
      "metadata": {
        "trusted": true
      },
      "cell_type": "code",
      "source": "s = \"   white spaces   \"\ns.strip\n# print (s)\n# s",
      "execution_count": 94,
      "outputs": [
        {
          "output_type": "execute_result",
          "execution_count": 94,
          "data": {
            "text/plain": "<function str.strip>"
          },
          "metadata": {}
        }
      ]
    },
    {
      "metadata": {
        "trusted": true
      },
      "cell_type": "code",
      "source": "s = \"   white spaces   \"\ns = s.strip(\"white\")\nprint (s)\n# s",
      "execution_count": 95,
      "outputs": [
        {
          "output_type": "stream",
          "text": "   white spaces   \n",
          "name": "stdout"
        }
      ]
    },
    {
      "metadata": {
        "trusted": true
      },
      "cell_type": "code",
      "source": "s = \"   white spaces   \"\n# s.strip\ns = s.replace(\"white\", \"sdfsdf\")\nprint (s)\ns",
      "execution_count": 96,
      "outputs": [
        {
          "output_type": "stream",
          "text": "   sdfsdf spaces   \n",
          "name": "stdout"
        },
        {
          "output_type": "execute_result",
          "execution_count": 96,
          "data": {
            "text/plain": "'   sdfsdf spaces   '"
          },
          "metadata": {}
        }
      ]
    },
    {
      "metadata": {
        "trusted": true
      },
      "cell_type": "code",
      "source": "# String Formatting Examples\na = 11; b = 12.34567; c = \"Hello World\"\n\nprint(\"1. a is %d\" % a)              # simple integer\nprint(\"2. %10d %f %s\" % (a, b, c))   # 10 padded spaces\nprint(\"3. %010d %E\" % (a, b))        # leading zeros with 10 characters\nprint(\"4. %.3f\" % b)                 # 3 decimal spaces\nprint(\"5. %5.2f\" % 1.45)             # pad out to 5 total character xx.xx\nprint(\"6. %15.3f\" % 12.400)          # pad out ot 15 total character spaces",
      "execution_count": 97,
      "outputs": [
        {
          "output_type": "stream",
          "text": "1. a is 11\n2.         11 12.345670 Hello World\n3. 0000000011 1.234567E+01\n4. 12.346\n5.  1.45\n6.          12.400\n",
          "name": "stdout"
        }
      ]
    },
    {
      "metadata": {
        "trusted": true
      },
      "cell_type": "code",
      "source": "# String Formatting Readability\n\n#Less readable; bit slower for Python (5 adds)\nmsg1 = \"Hello\"; msg2 = \"World\"\noutput = \"('\" + msg1 +\"')('\" + msg2 +\"')\"\nprint(output)",
      "execution_count": 98,
      "outputs": [
        {
          "output_type": "stream",
          "text": "('Hello')('World')\n",
          "name": "stdout"
        }
      ]
    },
    {
      "metadata": {
        "trusted": true
      },
      "cell_type": "code",
      "source": "# String Formatting Readablity\n\n# More readable; faster for Python\nprint (\"('%s')('%s')\" % (msg1, msg2))\nprint (\"('{}')('{}')\".format(msg1, msg2))",
      "execution_count": 99,
      "outputs": [
        {
          "output_type": "stream",
          "text": "('Hello')('World')\n('Hello')('World')\n",
          "name": "stdout"
        }
      ]
    },
    {
      "metadata": {
        "trusted": true
      },
      "cell_type": "code",
      "source": "x = (\"hello\", )    # just adding the space after \"hello\" turns x from a string into a tuple\ntype(x)      ",
      "execution_count": 100,
      "outputs": [
        {
          "output_type": "execute_result",
          "execution_count": 100,
          "data": {
            "text/plain": "tuple"
          },
          "metadata": {}
        }
      ]
    },
    {
      "metadata": {
        "trusted": true
      },
      "cell_type": "code",
      "source": "(1) == 1",
      "execution_count": 101,
      "outputs": [
        {
          "output_type": "execute_result",
          "execution_count": 101,
          "data": {
            "text/plain": "True"
          },
          "metadata": {}
        }
      ]
    },
    {
      "metadata": {
        "trusted": true
      },
      "cell_type": "code",
      "source": "(1,) == 1",
      "execution_count": 102,
      "outputs": [
        {
          "output_type": "execute_result",
          "execution_count": 102,
          "data": {
            "text/plain": "False"
          },
          "metadata": {}
        }
      ]
    },
    {
      "metadata": {
        "trusted": true
      },
      "cell_type": "code",
      "source": "type ( (1) )",
      "execution_count": 103,
      "outputs": [
        {
          "output_type": "execute_result",
          "execution_count": 103,
          "data": {
            "text/plain": "int"
          },
          "metadata": {}
        }
      ]
    },
    {
      "metadata": {
        "trusted": true
      },
      "cell_type": "code",
      "source": "type ( (1,) )",
      "execution_count": 104,
      "outputs": [
        {
          "output_type": "execute_result",
          "execution_count": 104,
          "data": {
            "text/plain": "tuple"
          },
          "metadata": {}
        }
      ]
    },
    {
      "metadata": {
        "trusted": true
      },
      "cell_type": "code",
      "source": "# examples of using tuples. Look at learning python PDF for more info\nx = (1, (3, 4))\ny = x + (7,)    # look! we can \"add\" (append) these\nprint (x)\nprint (y)",
      "execution_count": 105,
      "outputs": [
        {
          "output_type": "stream",
          "text": "(1, (3, 4))\n(1, (3, 4), 7)\n",
          "name": "stdout"
        }
      ]
    },
    {
      "metadata": {
        "trusted": true
      },
      "cell_type": "code",
      "source": "# more examples\nprint (\"y      :\", y)\nprint (\"y[1]   :\", y [1])\nprint (\"y[1][0]:\", y [1][0])\nprint (\"y[2]   :\", y[2])",
      "execution_count": 106,
      "outputs": [
        {
          "output_type": "stream",
          "text": "y      : (1, (3, 4), 7)\ny[1]   : (3, 4)\ny[1][0]: 3\ny[2]   : 7\n",
          "name": "stdout"
        }
      ]
    },
    {
      "metadata": {
        "trusted": true
      },
      "cell_type": "code",
      "source": "# x = (1, (3, 4))\n# y = x + (7,)    # look! we can \"add\" (append) these\n# print (x)\n# print (y)\n# y[5]\n\nx = ( (2,3), (4,5), (3,4) )\n\n\nfor value in x:    # x[0], x[1], [2]\n    print(value)",
      "execution_count": 107,
      "outputs": [
        {
          "output_type": "stream",
          "text": "(2, 3)\n(4, 5)\n(3, 4)\n",
          "name": "stdout"
        }
      ]
    },
    {
      "metadata": {
        "trusted": true
      },
      "cell_type": "code",
      "source": "# x = (1, (3, 4))\n# y = x + (7,)    # look! we can \"add\" (append) these\n# print (x)\n# print (y)\n# y[5]\n\nx = ( (2,3), (4,5), (3,4) )\n\n\nfor value in x:    # x[0], x[1], [2]\n    print(value[1])",
      "execution_count": 108,
      "outputs": [
        {
          "output_type": "stream",
          "text": "3\n5\n4\n",
          "name": "stdout"
        }
      ]
    },
    {
      "metadata": {
        "trusted": true
      },
      "cell_type": "code",
      "source": "# swapping variables\n\na = 123\nb = 456\n\ntemp = a\na = b\nb = temp\n\nprint(a, b)",
      "execution_count": 109,
      "outputs": [
        {
          "output_type": "stream",
          "text": "456 123\n",
          "name": "stdout"
        }
      ]
    },
    {
      "metadata": {
        "trusted": true
      },
      "cell_type": "code",
      "source": "lst = []               # create a new list\nlst.append(\"A\")        # add item\nlst.append(\"B\")\nprint(\"List:\", lst)    # print the list\ndel lst[0]             # remove item at index 0\nprint(\"New List:\", lst)",
      "execution_count": 110,
      "outputs": [
        {
          "output_type": "stream",
          "text": "List: ['A', 'B']\nNew List: ['B']\n",
          "name": "stdout"
        }
      ]
    },
    {
      "metadata": {
        "trusted": true
      },
      "cell_type": "code",
      "source": "lst = []               \nlst.append(\"A\")        \nlst.append(\"B\")\n# lst.append( (1,2, \"hello\"))\n# print(lst)\nr = input('Pick a letter? ' )\nif r in lst: \n    print(f\"'{r}' already picked\")\n    \nelse:\n    lst.append(r)\n    \n# del lst[0]\nlst",
      "execution_count": 111,
      "outputs": [
        {
          "output_type": "stream",
          "name": "stdout",
          "text": "Pick a letter? k\n"
        },
        {
          "output_type": "execute_result",
          "execution_count": 111,
          "data": {
            "text/plain": "['A', 'B', 'k']"
          },
          "metadata": {}
        }
      ]
    },
    {
      "metadata": {
        "trusted": true
      },
      "cell_type": "code",
      "source": "lst = [\"a\", \"b\", \"c\"]\nnewL = lst\n\nnewL.append(\"D\")\n\nprint(lst, newL)\nprint( id(lst), id(newL) )",
      "execution_count": 112,
      "outputs": [
        {
          "output_type": "stream",
          "text": "['a', 'b', 'c', 'D'] ['a', 'b', 'c', 'D']\n140167670745224 140167670745224\n",
          "name": "stdout"
        }
      ]
    },
    {
      "metadata": {
        "trusted": true
      },
      "cell_type": "code",
      "source": "lst = [\"a\", \"b\", \"c\"]\nnewL = lst\n\nnewL.append(\"D\")\n\nprint(lst, newL)\nprint( hex(id(lst)), hex(id(newL)) )",
      "execution_count": 113,
      "outputs": [
        {
          "output_type": "stream",
          "text": "['a', 'b', 'c', 'D'] ['a', 'b', 'c', 'D']\n0x7f7b54394508 0x7f7b54394508\n",
          "name": "stdout"
        }
      ]
    },
    {
      "metadata": {
        "trusted": true
      },
      "cell_type": "code",
      "source": "lst = [\"a\", \"b\", \"c\"]\nnewL = lst[:]\n\nnewL.append(\"D\")\n\nprint(lst, newL)\nprint( id(lst), id(newL) )",
      "execution_count": 114,
      "outputs": [
        {
          "output_type": "stream",
          "text": "['a', 'b', 'c'] ['a', 'b', 'c', 'D']\n140167670745352 140167678844360\n",
          "name": "stdout"
        }
      ]
    },
    {
      "metadata": {
        "trusted": true
      },
      "cell_type": "code",
      "source": "s = \"abcde\"\ns[1:]    # all but the first",
      "execution_count": 115,
      "outputs": [
        {
          "output_type": "execute_result",
          "execution_count": 115,
          "data": {
            "text/plain": "'bcde'"
          },
          "metadata": {}
        }
      ]
    },
    {
      "metadata": {
        "trusted": true
      },
      "cell_type": "code",
      "source": "s = \"abcde\"\ns[::2]",
      "execution_count": 116,
      "outputs": [
        {
          "output_type": "execute_result",
          "execution_count": 116,
          "data": {
            "text/plain": "'ace'"
          },
          "metadata": {}
        }
      ]
    },
    {
      "metadata": {
        "trusted": true
      },
      "cell_type": "code",
      "source": "# joining slices and call string functions\ns[::-1]",
      "execution_count": 117,
      "outputs": [
        {
          "output_type": "execute_result",
          "execution_count": 117,
          "data": {
            "text/plain": "'edcba'"
          },
          "metadata": {}
        }
      ]
    },
    {
      "metadata": {
        "trusted": true
      },
      "cell_type": "code",
      "source": "[\"a\", \"b\", \"a\", \"c\"].count(\"a\")",
      "execution_count": 118,
      "outputs": [
        {
          "output_type": "execute_result",
          "execution_count": 118,
          "data": {
            "text/plain": "2"
          },
          "metadata": {}
        }
      ]
    },
    {
      "metadata": {
        "trusted": true
      },
      "cell_type": "code",
      "source": "l = [\"a\", \"b\", \"a\", \"c\"]\nl.reverse()\nl",
      "execution_count": 119,
      "outputs": [
        {
          "output_type": "execute_result",
          "execution_count": 119,
          "data": {
            "text/plain": "['c', 'a', 'b', 'a']"
          },
          "metadata": {}
        }
      ]
    },
    {
      "metadata": {
        "trusted": true
      },
      "cell_type": "code",
      "source": "L = [(x, x*2) for x in range(10)]\nL",
      "execution_count": 120,
      "outputs": [
        {
          "output_type": "execute_result",
          "execution_count": 120,
          "data": {
            "text/plain": "[(0, 0),\n (1, 2),\n (2, 4),\n (3, 6),\n (4, 8),\n (5, 10),\n (6, 12),\n (7, 14),\n (8, 16),\n (9, 18)]"
          },
          "metadata": {}
        }
      ]
    },
    {
      "metadata": {
        "trusted": true
      },
      "cell_type": "code",
      "source": "import math\n\nL = [(x, math.sin(x)) for x in range(10) if x%2]\nL",
      "execution_count": 121,
      "outputs": [
        {
          "output_type": "execute_result",
          "execution_count": 121,
          "data": {
            "text/plain": "[(1, 0.841), (3, 0.141), (5, -0.959), (7, 0.657), (9, 0.412)]"
          },
          "metadata": {}
        }
      ]
    },
    {
      "metadata": {
        "trusted": true
      },
      "cell_type": "code",
      "source": "import math\n\n# L = [(x, math.sin(x)) for x in range(10) if x%2]\n# L\n\nL = []\nfor x in range(10):\n    if x%2:\n        L.append((x, math.sin(x)))\nL\n\n2%2",
      "execution_count": 122,
      "outputs": [
        {
          "output_type": "execute_result",
          "execution_count": 122,
          "data": {
            "text/plain": "0"
          },
          "metadata": {}
        }
      ]
    },
    {
      "metadata": {
        "trusted": true
      },
      "cell_type": "code",
      "source": "import math\n\n# L = [(x, math.sin(x)) for x in range(10) if x%2]\n# L\n\nL = []\nfor x in range(10):\n    if x%2:     # if remainder\n        L.append((x, math.sin(x)))\nL\n\n5%2",
      "execution_count": 123,
      "outputs": [
        {
          "output_type": "execute_result",
          "execution_count": 123,
          "data": {
            "text/plain": "1"
          },
          "metadata": {}
        }
      ]
    },
    {
      "metadata": {
        "trusted": true
      },
      "cell_type": "code",
      "source": "car = {\"make\": \"Honda\", \"color\": \"Black\", (12,1):\"foo\"}\ncar",
      "execution_count": 124,
      "outputs": [
        {
          "output_type": "execute_result",
          "execution_count": 124,
          "data": {
            "text/plain": "{'make': 'Honda', 'color': 'Black', (12, 1): 'foo'}"
          },
          "metadata": {}
        }
      ]
    },
    {
      "metadata": {
        "trusted": true
      },
      "cell_type": "code",
      "source": "d = {}\nobj = d.setdefault(\"apple\", [])\nobj.append(\"1\")\nd",
      "execution_count": 125,
      "outputs": [
        {
          "output_type": "execute_result",
          "execution_count": 125,
          "data": {
            "text/plain": "{'apple': ['1']}"
          },
          "metadata": {}
        }
      ]
    },
    {
      "metadata": {
        "trusted": true
      },
      "cell_type": "code",
      "source": "d = {}\nobj = d.setdefault(\"apple\", [])\nobj.append(\"1\")\nd\n\ncar = {\"amke\": \"Honda\", \"color\": \"Black\"}\ncar.get[\"make\"]",
      "execution_count": 126,
      "outputs": [
        {
          "output_type": "error",
          "ename": "TypeError",
          "evalue": "'builtin_function_or_method' object is not subscriptable",
          "traceback": [
            "\u001b[0;31m---------------------------------------------------------------------------\u001b[0m",
            "\u001b[0;31mTypeError\u001b[0m                                 Traceback (most recent call last)",
            "\u001b[0;32m<ipython-input-126-e404e54acbbb>\u001b[0m in \u001b[0;36m<module>\u001b[0;34m\u001b[0m\n\u001b[1;32m      5\u001b[0m \u001b[0;34m\u001b[0m\u001b[0m\n\u001b[1;32m      6\u001b[0m \u001b[0mcar\u001b[0m \u001b[0;34m=\u001b[0m \u001b[0;34m{\u001b[0m\u001b[0;34m\"amke\"\u001b[0m\u001b[0;34m:\u001b[0m \u001b[0;34m\"Honda\"\u001b[0m\u001b[0;34m,\u001b[0m \u001b[0;34m\"color\"\u001b[0m\u001b[0;34m:\u001b[0m \u001b[0;34m\"Black\"\u001b[0m\u001b[0;34m}\u001b[0m\u001b[0;34m\u001b[0m\u001b[0m\n\u001b[0;32m----> 7\u001b[0;31m \u001b[0mcar\u001b[0m\u001b[0;34m.\u001b[0m\u001b[0mget\u001b[0m\u001b[0;34m[\u001b[0m\u001b[0;34m\"make\"\u001b[0m\u001b[0;34m]\u001b[0m\u001b[0;34m\u001b[0m\u001b[0m\n\u001b[0m",
            "\u001b[0;31mTypeError\u001b[0m: 'builtin_function_or_method' object is not subscriptable"
          ]
        }
      ]
    },
    {
      "metadata": {
        "trusted": true
      },
      "cell_type": "code",
      "source": "d = {}\nobj = d.setdefault(\"apple\", [])\nobj.append(\"1\")\nd\n\ncar = {\"amke\": \"Honda\", \"color\": \"Black\"}\ncar.get(\"make2\", \"N/A\")",
      "execution_count": 127,
      "outputs": [
        {
          "output_type": "execute_result",
          "execution_count": 127,
          "data": {
            "text/plain": "'N/A'"
          },
          "metadata": {}
        }
      ]
    },
    {
      "metadata": {
        "trusted": true
      },
      "cell_type": "code",
      "source": "def double(value):\n    # if the value is less than zero return 0\n    if value > 0: \n        return value*2\n    \n    return 0\n    \ndouble(-1)",
      "execution_count": 5,
      "outputs": [
        {
          "output_type": "execute_result",
          "execution_count": 5,
          "data": {
            "text/plain": "0"
          },
          "metadata": {}
        }
      ]
    },
    {
      "metadata": {
        "trusted": true
      },
      "cell_type": "code",
      "source": "def double(value):\n    # if the value is not an integer return 0\n    if type(value) not in [int, float]: return 0\n    \n    # if the value is less than zero return 0\n    if value > 0: return value*2\n    else: return 0\n\nprint double(\"3\")\nprint double(4)",
      "execution_count": 6,
      "outputs": [
        {
          "output_type": "error",
          "ename": "SyntaxError",
          "evalue": "invalid syntax (<ipython-input-6-6f45e6969880>, line 9)",
          "traceback": [
            "\u001b[0;36m  File \u001b[0;32m\"<ipython-input-6-6f45e6969880>\"\u001b[0;36m, line \u001b[0;32m9\u001b[0m\n\u001b[0;31m    print double(\"3\")\u001b[0m\n\u001b[0m               ^\u001b[0m\n\u001b[0;31mSyntaxError\u001b[0m\u001b[0;31m:\u001b[0m invalid syntax\n"
          ]
        }
      ]
    },
    {
      "metadata": {
        "trusted": true
      },
      "cell_type": "code",
      "source": "",
      "execution_count": 7,
      "outputs": [
        {
          "output_type": "execute_result",
          "execution_count": 7,
          "data": {
            "text/plain": "(int, float)"
          },
          "metadata": {}
        }
      ]
    },
    {
      "metadata": {
        "trusted": true
      },
      "cell_type": "code",
      "source": "",
      "execution_count": null,
      "outputs": []
    }
  ],
  "metadata": {
    "kernelspec": {
      "name": "python36",
      "display_name": "Python 3.6",
      "language": "python"
    },
    "language_info": {
      "mimetype": "text/x-python",
      "nbconvert_exporter": "python",
      "name": "python",
      "pygments_lexer": "ipython3",
      "version": "3.6.6",
      "file_extension": ".py",
      "codemirror_mode": {
        "version": 3,
        "name": "ipython"
      }
    }
  },
  "nbformat": 4,
  "nbformat_minor": 2
}