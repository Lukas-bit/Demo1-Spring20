{
  "cells": [
    {
      "metadata": {
        "trusted": true
      },
      "cell_type": "code",
      "source": "import random\n\nchances = 4\nturn = 0\nstorage = []\n\n#   create a secret random number between 1 and 21\nsecret = random.randrange(1, 21)\n#   print(secret)\n\n#   print a welcome message\nprint(\"Welcome to my game! Guess the correct number between 1 - 21 and you win!\\nYou have four chances...\")\n\n#   while the user is still playing the game\nwhile True:\n\n    #   ask the user for 'input' and store the result as an integer\n    print()\n    num = input(\"Guess a number between 1 - 21 (Enter 'Q' to quit): \")\n\n    #   Quit the program on 'any' of the following IF conditions:\n    #   IF the user enters \"Q\"\n    #   IF the user has guessed the 'secret' number\n    #   IF the user has used up all the 'chances'\n\n    if num == \"Q\": \n        print()\n        print(\"Too bad! The number was\", secret)\n        break\n    if int(num) == secret:\n        print()\n        print(\"Excellent guess! The number is\", secret, \"\\nYou win!\")\n        break\n    if turn == chances - 1:\n        print()\n        print(\"You ran out of chances! The number was\", secret, \"\\nPlay again?\")\n        break\n    if num in storage:\n        print()\n        print(\"You've already guessed that number!\")\n        continue\n\n    #   Only if the following IF conditions are True:\n    #      IF input value is greater than 0:  (part 7)\n    #      IF num is not already in storage: (part 8)\n    #         Add the num to the storage    (part 9)\n    #         Increment turn by 1           (part 10)\n    #   (hint: only when both parts 7, 8 are True: parts 9, 10 are executed)\n    if int(num) > 0 and num not in storage:\n        print()\n        print(\"Not quite! Guess again...\")\n        storage.append(num)\n        turn += 1\n        continue",
      "execution_count": 7,
      "outputs": [
        {
          "output_type": "stream",
          "text": "Welcome to my game! Guess the correct number between 1 - 21 and you win!\nYou have four chances...\n\nGuess a number between 1 - 21 (Enter 'Q' to quit): 21\n\nNot quite! Guess again...\n\nGuess a number between 1 - 21 (Enter 'Q' to quit): 20\n\nNot quite! Guess again...\n\nGuess a number between 1 - 21 (Enter 'Q' to quit): 18\n\nNot quite! Guess again...\n\nGuess a number between 1 - 21 (Enter 'Q' to quit): 15\n\nExcellent guess! The number is 15 \nYou win!\n",
          "name": "stdout"
        }
      ]
    },
    {
      "metadata": {
        "trusted": true
      },
      "cell_type": "code",
      "source": "",
      "execution_count": null,
      "outputs": []
    }
  ],
  "metadata": {
    "kernelspec": {
      "name": "python36",
      "display_name": "Python 3.6",
      "language": "python"
    },
    "language_info": {
      "mimetype": "text/x-python",
      "nbconvert_exporter": "python",
      "name": "python",
      "pygments_lexer": "ipython3",
      "version": "3.6.6",
      "file_extension": ".py",
      "codemirror_mode": {
        "version": 3,
        "name": "ipython"
      }
    }
  },
  "nbformat": 4,
  "nbformat_minor": 2
}