{
  "cells": [
    {
      "metadata": {
        "trusted": true
      },
      "cell_type": "code",
      "source": "# 1.1. All Odds\n\nfor x in range(5, 37, 2):\n    print(x, end=\" \")",
      "execution_count": 1,
      "outputs": [
        {
          "name": "stdout",
          "output_type": "stream",
          "text": "5 7 9 11 13 15 17 19 21 23 25 27 29 31 33 35 "
        }
      ]
    },
    {
      "metadata": {
        "trusted": true
      },
      "cell_type": "code",
      "source": "# 1.2. Loops\n\nc = input(\"What is the degrees celsius? \")\nC = float(c)\nf = 9/5 * C + 32\n\nprint()\nprint(\"The degrees fahrenheit is\", int(f))",
      "execution_count": 2,
      "outputs": [
        {
          "name": "stdout",
          "output_type": "stream",
          "text": "What is the degrees celsius? 21\n\nThe degrees fahrenheit is 69\n"
        }
      ]
    },
    {
      "metadata": {
        "scrolled": true,
        "trusted": true
      },
      "cell_type": "code",
      "source": "# 1.3. Convert Word to Hex and Binary\n\nn = input(\"Enter a word: \")\n\nname = n\n\nfor item in name:\n    print(\"\\nLetter\", item, \"in hex is: \", hex(ord(item)), \"\\nIn binary: \", bin(ord(item)))",
      "execution_count": 3,
      "outputs": [
        {
          "name": "stdout",
          "output_type": "stream",
          "text": "Enter a word: Hello World\n\nLetter H in hex is:  0x48 \nIn binary:  0b1001000\n\nLetter e in hex is:  0x65 \nIn binary:  0b1100101\n\nLetter l in hex is:  0x6c \nIn binary:  0b1101100\n\nLetter l in hex is:  0x6c \nIn binary:  0b1101100\n\nLetter o in hex is:  0x6f \nIn binary:  0b1101111\n\nLetter   in hex is:  0x20 \nIn binary:  0b100000\n\nLetter W in hex is:  0x57 \nIn binary:  0b1010111\n\nLetter o in hex is:  0x6f \nIn binary:  0b1101111\n\nLetter r in hex is:  0x72 \nIn binary:  0b1110010\n\nLetter l in hex is:  0x6c \nIn binary:  0b1101100\n\nLetter d in hex is:  0x64 \nIn binary:  0b1100100\n"
        }
      ]
    },
    {
      "metadata": {
        "trusted": true
      },
      "cell_type": "code",
      "source": "# 1.4. Strings Part 1\n\ndef message(msg1, msg2):\n    if msg2 in msg1: \n        print(\"True\")\n    else: \n        print(\"False\")\n    \nmessage(\"Hello World\", \"Hello\")\nprint()\nmessage(\"Hello World\", \"Goodbye\")",
      "execution_count": 4,
      "outputs": [
        {
          "name": "stdout",
          "output_type": "stream",
          "text": "True\n\nFalse\n"
        }
      ]
    },
    {
      "metadata": {
        "trusted": true
      },
      "cell_type": "code",
      "source": "# 1.4. Strings Part 2\n\n\nimport random\n\nr = random.randrange(0, 50)\n\nwhile True:\n    print()\n    guess = input(\"Guess a number between 1 - 50: \")\n    if r - 15 >= int(guess) >= 15 + r: \n        print()\n        print(\"Very Cold\")      \n        continue\n    if int(guess) >= 8 + r and int(guess) < 15 + r:\n        print()\n        print(\"Colder\")\n        continue\n    if int(guess) <= r - 8 and int(guess) > r - 15:\n        print()\n        print(\"Colder\")\n        continue\n    if int(guess) < 8 + r and int(guess) > r - 8:\n        print()\n        print(\"Warmer\")\n        continue\n    if int(guess) <= 3 + r and int(guess) >= r - 3:\n        print()\n        print(\"Very Hot\")\n        continue\n    if int(guess) == r:\n        print\n        print(\"Correct!\")\n        break",
      "execution_count": null,
      "outputs": []
    },
    {
      "metadata": {
        "trusted": true
      },
      "cell_type": "code",
      "source": "# 1.5. Volume\n\nfrom ipywidgets import interact\nfrom math import pi\n\nprint(\"What is the radius of the sphere? \")\n\n@interact(r = \"2\")\ndef foo(r):\n    R = float(r)\n    v = 4/3 * pi * R * R * R\n    if v > 0:\n        print(\"The volume is \", v, \"units cubed.\")\n    else:\n        print(\"The volume is 0 units cubed.\")",
      "execution_count": 1,
      "outputs": [
        {
          "output_type": "stream",
          "text": "What is the radius of the sphere? \n",
          "name": "stdout"
        },
        {
          "output_type": "display_data",
          "data": {
            "application/vnd.jupyter.widget-view+json": {
              "model_id": "674a34d0b8eb497b809b06c9f880fe68",
              "version_minor": 0,
              "version_major": 2
            },
            "text/plain": "interactive(children=(Text(value='2', description='r'), Output()), _dom_classes=('widget-interact',))"
          },
          "metadata": {}
        }
      ]
    },
    {
      "metadata": {
        "trusted": true
      },
      "cell_type": "code",
      "source": "# 1.6. Stoned\n\nw = input(\"What is your weight in pounds? \")\nW = float(w)\n\nk = W * 453.59/1000\n\ns = (k * 2.2)/14\n\nprint()\nprint(\"Your weight (\", w, \"lbs ) is the same as about %.3f\" % s, \"stones.\")",
      "execution_count": 2,
      "outputs": [
        {
          "name": "stdout",
          "output_type": "stream",
          "text": "What is your weight in pounds? 125\n\nYour weight ( 125 lbs ) is the same as about 8.910 stones.\n"
        }
      ]
    },
    {
      "metadata": {
        "trusted": true
      },
      "cell_type": "code",
      "source": "# 1.7. Ohm's Law 1\n\ndef in_series(r1, r2, v):\n    req = r1 + r2\n    i = v/req\n    print(\"Given r1 =\", r1, \", r2 =\", r2, \"and v =\", v, \"in series i = %.5f\" %i)\n    \ndef in_parallel(r1, r2, v):\n    req = (r1 * r2)/(r1 + r2)\n    i = v/req\n    print()\n    print(\"Given r1 =\", r1, \", r2 =\", r2, \"and v =\", v, \"in parallel i =\", i)\n\nin_series(5, 10, 5)\nin_parallel(5, 10, 5)",
      "execution_count": 3,
      "outputs": [
        {
          "name": "stdout",
          "output_type": "stream",
          "text": "Given r1 = 5 , r2 = 10 and v = 5 in series i = 0.33333\n\nGiven r1 = 5 , r2 = 10 and v = 5 in parallel i = 1.5\n"
        }
      ]
    },
    {
      "metadata": {
        "trusted": true
      },
      "cell_type": "code",
      "source": "# 1.8. Ohms Law 2\n\nfrom ipywidgets import interact\n\nprint(\"What is the resistance?\")\n@interact(r = 5)\n\ndef resistance(r):\n    if float(r) < 0:\n        print(\"Please enter a positive value.\")\n    else:\n        print(\"What is the current?\")\n        @interact(i = \"5\")\n        \n        def current(i):\n            I = float(i)\n            if float(i) < 0:\n                print(\"Please enter a positive value.\")\n            else:\n                v = r * I\n                p = v * I\n                print(\"The voltage is\", v, \"volts.\")\n                print()\n                print(\"The power is\", p, \"watts.\")",
      "execution_count": 2,
      "outputs": [
        {
          "output_type": "stream",
          "text": "What is the resistance?\n",
          "name": "stdout"
        },
        {
          "output_type": "display_data",
          "data": {
            "application/vnd.jupyter.widget-view+json": {
              "model_id": "987e89ad095a4104bce58cac534e75ac",
              "version_minor": 0,
              "version_major": 2
            },
            "text/plain": "interactive(children=(IntSlider(value=5, description='r', max=15, min=-5), Output()), _dom_classes=('widget-in…"
          },
          "metadata": {}
        }
      ]
    },
    {
      "metadata": {
        "trusted": true
      },
      "cell_type": "code",
      "source": "# 1.9. Odd/Even\n\n\nfrom ipywidgets import interact\n\n@interact(x = 10)\ndef led(x):\n    if x%2 > 0:\n        print(\"Led OFF - x:\", x)\n    else:\n        print(\"Led ON - x:\", x)",
      "execution_count": 3,
      "outputs": [
        {
          "output_type": "display_data",
          "data": {
            "application/vnd.jupyter.widget-view+json": {
              "model_id": "f43baa6d6e5f403f9a222e7ced91ac78",
              "version_minor": 0,
              "version_major": 2
            },
            "text/plain": "interactive(children=(IntSlider(value=10, description='x', max=30, min=-10), Output()), _dom_classes=('widget-…"
          },
          "metadata": {}
        }
      ]
    },
    {
      "metadata": {
        "trusted": true
      },
      "cell_type": "code",
      "source": "# 1.10. Change It\n\n\ndef change_it(P, N, D, Q):\n    c = input(\"How much money do you have? $\")\n    C = float(c)\n    q = C/Q\n    q1 = int(q)\n    c1 = C - q1 * Q\n    d = c1/D\n    d1 = int(d)\n    c2 = c1 - d1 * D\n    n =  c2/N\n    n1 = int(n)\n    c3 = c2 - n1 * N\n    p = c3/P\n    print()\n    print(\"Your change in cents is\", int(q), \"quarters,\", int(d), \"dimes,\", int(n), \"nickels and\", int(p), \"pennies.\")\n\nchange_it(0.01, 0.05, 0.1, 0.25)",
      "execution_count": 3,
      "outputs": [
        {
          "name": "stdout",
          "output_type": "stream",
          "text": "How much money do you have? $2.68\n\nYour change in cents is 10 quarters, 1 dimes, 1 nickels and 3 pennies.\n"
        }
      ]
    },
    {
      "metadata": {
        "trusted": true
      },
      "cell_type": "code",
      "source": "",
      "execution_count": null,
      "outputs": []
    }
  ],
  "metadata": {
    "kernelspec": {
      "name": "python36",
      "display_name": "Python 3.6",
      "language": "python"
    },
    "language_info": {
      "mimetype": "text/x-python",
      "nbconvert_exporter": "python",
      "name": "python",
      "pygments_lexer": "ipython3",
      "version": "3.6.6",
      "file_extension": ".py",
      "codemirror_mode": {
        "version": 3,
        "name": "ipython"
      }
    }
  },
  "nbformat": 4,
  "nbformat_minor": 2
}