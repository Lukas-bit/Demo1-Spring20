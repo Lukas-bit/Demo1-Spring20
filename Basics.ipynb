{
 "cells": [
  {
   "cell_type": "code",
   "execution_count": 1,
   "metadata": {},
   "outputs": [
    {
     "name": "stdout",
     "output_type": "stream",
     "text": [
      "5 7 9 11 13 15 17 19 21 23 25 27 29 31 33 35 "
     ]
    }
   ],
   "source": [
    "# 1.1. All Odds\n",
    "\n",
    "for x in range(5, 37, 2):\n",
    "    print(x, end=\" \")"
   ]
  },
  {
   "cell_type": "code",
   "execution_count": 2,
   "metadata": {},
   "outputs": [
    {
     "name": "stdout",
     "output_type": "stream",
     "text": [
      "What is the degrees celsius? 21\n",
      "\n",
      "The degrees fahrenheit is 69\n"
     ]
    }
   ],
   "source": [
    "# 1.2. Loops\n",
    "\n",
    "c = input(\"What is the degrees celsius? \")\n",
    "C = float(c)\n",
    "f = 9/5 * C + 32\n",
    "\n",
    "print()\n",
    "print(\"The degrees fahrenheit is\", int(f))"
   ]
  },
  {
   "cell_type": "code",
   "execution_count": 3,
   "metadata": {
    "scrolled": true
   },
   "outputs": [
    {
     "name": "stdout",
     "output_type": "stream",
     "text": [
      "Enter a word: Hello World\n",
      "\n",
      "Letter H in hex is:  0x48 \n",
      "In binary:  0b1001000\n",
      "\n",
      "Letter e in hex is:  0x65 \n",
      "In binary:  0b1100101\n",
      "\n",
      "Letter l in hex is:  0x6c \n",
      "In binary:  0b1101100\n",
      "\n",
      "Letter l in hex is:  0x6c \n",
      "In binary:  0b1101100\n",
      "\n",
      "Letter o in hex is:  0x6f \n",
      "In binary:  0b1101111\n",
      "\n",
      "Letter   in hex is:  0x20 \n",
      "In binary:  0b100000\n",
      "\n",
      "Letter W in hex is:  0x57 \n",
      "In binary:  0b1010111\n",
      "\n",
      "Letter o in hex is:  0x6f \n",
      "In binary:  0b1101111\n",
      "\n",
      "Letter r in hex is:  0x72 \n",
      "In binary:  0b1110010\n",
      "\n",
      "Letter l in hex is:  0x6c \n",
      "In binary:  0b1101100\n",
      "\n",
      "Letter d in hex is:  0x64 \n",
      "In binary:  0b1100100\n"
     ]
    }
   ],
   "source": [
    "# 1.3. Convert Word to Hex and Binary\n",
    "\n",
    "n = input(\"Enter a word: \")\n",
    "\n",
    "name = n\n",
    "\n",
    "for item in name:\n",
    "    print(\"\\nLetter\", item, \"in hex is: \", hex(ord(item)), \"\\nIn binary: \", bin(ord(item)))"
   ]
  },
  {
   "cell_type": "code",
   "execution_count": 4,
   "metadata": {},
   "outputs": [
    {
     "name": "stdout",
     "output_type": "stream",
     "text": [
      "True\n",
      "\n",
      "False\n"
     ]
    }
   ],
   "source": [
    "# 1.4. Strings Part 1\n",
    "\n",
    "def message(msg1, msg2):\n",
    "    if msg2 in msg1: \n",
    "        print(\"True\")\n",
    "    else: \n",
    "        print(\"False\")\n",
    "    \n",
    "message(\"Hello World\", \"Hello\")\n",
    "print()\n",
    "message(\"Hello World\", \"Goodbye\")"
   ]
  },
  {
   "cell_type": "code",
   "execution_count": null,
   "metadata": {},
   "outputs": [],
   "source": [
    "# 1.4. Strings Part 2\n",
    "\n",
    "\n",
    "import random\n",
    "\n",
    "r = random.randrange(0, 50)\n",
    "\n",
    "while True:\n",
    "    print()\n",
    "    guess = input(\"Guess a number between 1 - 50: \")\n",
    "    if r - 15 >= int(guess) >= 15 + r: \n",
    "        print()\n",
    "        print(\"Very Cold\")      \n",
    "        continue\n",
    "    if int(guess) >= 8 + r and int(guess) < 15 + r:\n",
    "        print()\n",
    "        print(\"Colder\")\n",
    "        continue\n",
    "    if int(guess) <= r - 8 and int(guess) > r - 15:\n",
    "        print()\n",
    "        print(\"Colder\")\n",
    "        continue\n",
    "    if int(guess) < 8 + r and int(guess) > r - 8:\n",
    "        print()\n",
    "        print(\"Warmer\")\n",
    "        continue\n",
    "    if int(guess) <= 3 + r and int(guess) >= r - 3:\n",
    "        print()\n",
    "        print(\"Very Hot\")\n",
    "        continue\n",
    "    if int(guess) == r:\n",
    "        print\n",
    "        print(\"Correct!\")\n",
    "        break"
   ]
  },
  {
   "cell_type": "code",
   "execution_count": 4,
   "metadata": {},
   "outputs": [
    {
     "name": "stdout",
     "output_type": "stream",
     "text": [
      "What is the radius of the sphere? \n"
     ]
    },
    {
     "data": {
      "application/vnd.jupyter.widget-view+json": {
       "model_id": "1d9ec12b0ddc4facb78f0cb1a27dc80e",
       "version_major": 2,
       "version_minor": 0
      },
      "text/plain": [
       "interactive(children=(Text(value='2', description='r'), Output()), _dom_classes=('widget-interact',))"
      ]
     },
     "metadata": {},
     "output_type": "display_data"
    }
   ],
   "source": [
    "# 1.5. Volume\n",
    "\n",
    "from ipywidgets import interact\n",
    "from math import pi\n",
    "\n",
    "print(\"What is the radius of the sphere? \")\n",
    "\n",
    "@interact(r = \"2\")\n",
    "def foo(r):\n",
    "    R = float(r)\n",
    "    v = 4/3 * pi * R * R * R\n",
    "    if v > 0:\n",
    "        print(\"The volume is \", v, \"units cubed.\")\n",
    "    else:\n",
    "        print(\"The volume is 0 units cubed.\")"
   ]
  },
  {
   "cell_type": "code",
   "execution_count": 2,
   "metadata": {},
   "outputs": [
    {
     "name": "stdout",
     "output_type": "stream",
     "text": [
      "What is your weight in pounds? 125\n",
      "\n",
      "Your weight ( 125 lbs ) is the same as about 8.910 stones.\n"
     ]
    }
   ],
   "source": [
    "# 1.6. Stoned\n",
    "\n",
    "w = input(\"What is your weight in pounds? \")\n",
    "W = float(w)\n",
    "\n",
    "k = W * 453.59/1000\n",
    "\n",
    "s = (k * 2.2)/14\n",
    "\n",
    "print()\n",
    "print(\"Your weight (\", w, \"lbs ) is the same as about %.3f\" % s, \"stones.\")"
   ]
  },
  {
   "cell_type": "code",
   "execution_count": 3,
   "metadata": {},
   "outputs": [
    {
     "name": "stdout",
     "output_type": "stream",
     "text": [
      "Given r1 = 5 , r2 = 10 and v = 5 in series i = 0.33333\n",
      "\n",
      "Given r1 = 5 , r2 = 10 and v = 5 in parallel i = 1.5\n"
     ]
    }
   ],
   "source": [
    "# 1.7. Ohm's Law 1\n",
    "\n",
    "def in_series(r1, r2, v):\n",
    "    req = r1 + r2\n",
    "    i = v/req\n",
    "    print(\"Given r1 =\", r1, \", r2 =\", r2, \"and v =\", v, \"in series i = %.5f\" %i)\n",
    "    \n",
    "def in_parallel(r1, r2, v):\n",
    "    req = (r1 * r2)/(r1 + r2)\n",
    "    i = v/req\n",
    "    print()\n",
    "    print(\"Given r1 =\", r1, \", r2 =\", r2, \"and v =\", v, \"in parallel i =\", i)\n",
    "\n",
    "in_series(5, 10, 5)\n",
    "in_parallel(5, 10, 5)"
   ]
  },
  {
   "cell_type": "code",
   "execution_count": 1,
   "metadata": {},
   "outputs": [
    {
     "name": "stdout",
     "output_type": "stream",
     "text": [
      "What is the resistance?\n"
     ]
    },
    {
     "data": {
      "application/vnd.jupyter.widget-view+json": {
       "model_id": "00c65d3d54584c2c9bc30d01dd797329",
       "version_major": 2,
       "version_minor": 0
      },
      "text/plain": [
       "interactive(children=(IntSlider(value=5, description='r', max=15, min=-5), Output()), _dom_classes=('widget-in…"
      ]
     },
     "metadata": {},
     "output_type": "display_data"
    }
   ],
   "source": [
    "# 1.8. Ohms Law 2\n",
    "\n",
    "from ipywidgets import interact\n",
    "\n",
    "print(\"What is the resistance?\")\n",
    "@interact(r = 5)\n",
    "\n",
    "def resistance(r):\n",
    "    if float(r) < 0:\n",
    "        print(\"Please enter a positive value.\")\n",
    "    else:\n",
    "        print(\"What is the current?\")\n",
    "        @interact(i = \"5\")\n",
    "        \n",
    "        def current(i):\n",
    "            I = float(i)\n",
    "            if float(i) < 0:\n",
    "                print(\"Please enter a positive value.\")\n",
    "            else:\n",
    "                v = r * I\n",
    "                p = v * I\n",
    "                print(\"The voltage is\", v, \"volts.\")\n",
    "                print()\n",
    "                print(\"The power is\", p, \"watts.\")"
   ]
  },
  {
   "cell_type": "code",
   "execution_count": 2,
   "metadata": {},
   "outputs": [
    {
     "data": {
      "application/vnd.jupyter.widget-view+json": {
       "model_id": "47a9ebadef454a16b59f5e3c419a90e2",
       "version_major": 2,
       "version_minor": 0
      },
      "text/plain": [
       "interactive(children=(IntSlider(value=10, description='x', max=30, min=-10), Output()), _dom_classes=('widget-…"
      ]
     },
     "metadata": {},
     "output_type": "display_data"
    }
   ],
   "source": [
    "# 1.9. Odd/Even\n",
    "\n",
    "\n",
    "from ipywidgets import interact\n",
    "\n",
    "@interact(x = 10)\n",
    "def led(x):\n",
    "    if x%2 > 0:\n",
    "        print(\"Led OFF - x:\", x)\n",
    "    else:\n",
    "        print(\"Led ON - x:\", x)"
   ]
  },
  {
   "cell_type": "code",
   "execution_count": 3,
   "metadata": {},
   "outputs": [
    {
     "name": "stdout",
     "output_type": "stream",
     "text": [
      "How much money do you have? $2.68\n",
      "\n",
      "Your change in cents is 10 quarters, 1 dimes, 1 nickels and 3 pennies.\n"
     ]
    }
   ],
   "source": [
    "# 1.10. Change It\n",
    "\n",
    "\n",
    "def change_it(P, N, D, Q):\n",
    "    c = input(\"How much money do you have? $\")\n",
    "    C = float(c)\n",
    "    q = C/Q\n",
    "    q1 = int(q)\n",
    "    c1 = C - q1 * Q\n",
    "    d = c1/D\n",
    "    d1 = int(d)\n",
    "    c2 = c1 - d1 * D\n",
    "    n =  c2/N\n",
    "    n1 = int(n)\n",
    "    c3 = c2 - n1 * N\n",
    "    p = c3/P\n",
    "    print()\n",
    "    print(\"Your change in cents is\", int(q), \"quarters,\", int(d), \"dimes,\", int(n), \"nickels and\", int(p), \"pennies.\")\n",
    "\n",
    "change_it(0.01, 0.05, 0.1, 0.25)"
   ]
  },
  {
   "cell_type": "code",
   "execution_count": null,
   "metadata": {},
   "outputs": [],
   "source": []
  }
 ],
 "metadata": {
  "kernelspec": {
   "display_name": "Python 3.6",
   "language": "python",
   "name": "python36"
  },
  "language_info": {
   "codemirror_mode": {
    "name": "ipython",
    "version": 3
   },
   "file_extension": ".py",
   "mimetype": "text/x-python",
   "name": "python",
   "nbconvert_exporter": "python",
   "pygments_lexer": "ipython3",
   "version": "3.6.6"
  }
 },
 "nbformat": 4,
 "nbformat_minor": 2
}
