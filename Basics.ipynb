{
  "cells": [
    {
      "metadata": {
        "trusted": true
      },
      "cell_type": "code",
      "source": "# 1.1. All Odds\n\nfor x in range(5, 37, 2):\n    print(x, end=\" \")",
      "execution_count": 2,
      "outputs": [
        {
          "output_type": "stream",
          "text": "5 7 9 11 13 15 17 19 21 23 25 27 29 31 33 35 ",
          "name": "stdout"
        }
      ]
    },
    {
      "metadata": {
        "trusted": true
      },
      "cell_type": "code",
      "source": "# 1.2. Loops\n\nc = input(\"What is the degrees celsius? \")\nC = float(c)\nf = 9/5 * C + 32\nprint(\"The degrees fahrenheit is\", int(f))",
      "execution_count": 3,
      "outputs": [
        {
          "output_type": "stream",
          "name": "stdout",
          "text": "What is the degrees celsius? 4.2\nThe degrees fahrenheit is 39\n"
        }
      ]
    },
    {
      "metadata": {
        "trusted": true
      },
      "cell_type": "code",
      "source": "# 1.3. Convert Word to Hex and Binary\n\nn = input(\"Enter a word: \")\n\nhex(n)\n",
      "execution_count": null,
      "outputs": []
    },
    {
      "metadata": {
        "trusted": true
      },
      "cell_type": "code",
      "source": "hex(hello)",
      "execution_count": null,
      "outputs": []
    },
    {
      "metadata": {
        "trusted": true
      },
      "cell_type": "code",
      "source": "",
      "execution_count": null,
      "outputs": []
    }
  ],
  "metadata": {
    "kernelspec": {
      "name": "python36",
      "display_name": "Python 3.6",
      "language": "python"
    },
    "language_info": {
      "mimetype": "text/x-python",
      "nbconvert_exporter": "python",
      "name": "python",
      "pygments_lexer": "ipython3",
      "version": "3.6.6",
      "file_extension": ".py",
      "codemirror_mode": {
        "version": 3,
        "name": "ipython"
      }
    }
  },
  "nbformat": 4,
  "nbformat_minor": 2
}